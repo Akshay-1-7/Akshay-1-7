{
 "cells": [
  {
   "cell_type": "raw",
   "id": "d03f5e40",
   "metadata": {
    "_cell_guid": "b1076dfc-b9ad-4769-8c92-a6c4dae69d19",
    "_uuid": "8f2839f25d086af736a60e9eeb907d3b93b6e0e5",
    "papermill": {
     "duration": 0.038846,
     "end_time": "2022-02-25T07:03:07.947378",
     "exception": false,
     "start_time": "2022-02-25T07:03:07.908532",
     "status": "completed"
    },
    "tags": []
   },
   "source": [
    "# This Python 3 environment comes with many helpful analytics libraries installed\n",
    "# It is defined by the kaggle/python Docker image: https://github.com/kaggle/docker-python\n",
    "# For example, here's several helpful packages to load\n",
    "\n",
    "import numpy as np # linear algebra\n",
    "import pandas as pd # data processing, CSV file I/O (e.g. pd.read_csv)\n",
    "\n",
    "# Input data files are available in the read-only \"../input/\" directory\n",
    "# For example, running this (by clicking run or pressing Shift+Enter) will list all files under the input directory\n",
    "\n",
    "import os\n",
    "for dirname, _, filenames in os.walk('/kaggle/input'):\n",
    "    for filename in filenames:\n",
    "        print(os.path.join(dirname, filename))\n",
    "\n",
    "# You can write up to 20GB to the current directory (/kaggle/working/) that gets preserved as output when you create a version using \"Save & Run All\" \n",
    "# You can also write temporary files to /kaggle/temp/, but they won't be saved outside of the current session"
   ]
  },
  {
   "cell_type": "code",
   "execution_count": 1,
   "id": "45357124",
   "metadata": {
    "execution": {
     "iopub.execute_input": "2022-02-25T07:03:08.028730Z",
     "iopub.status.busy": "2022-02-25T07:03:08.026894Z",
     "iopub.status.idle": "2022-02-25T07:03:09.321286Z",
     "shell.execute_reply": "2022-02-25T07:03:09.320055Z",
     "shell.execute_reply.started": "2022-02-25T06:55:36.913698Z"
    },
    "papermill": {
     "duration": 1.335363,
     "end_time": "2022-02-25T07:03:09.321509",
     "exception": false,
     "start_time": "2022-02-25T07:03:07.986146",
     "status": "completed"
    },
    "tags": []
   },
   "outputs": [],
   "source": [
    "import pandas as pd\n",
    "import matplotlib.pyplot as plt\n",
    "import numpy as np\n",
    "%matplotlib inline\n",
    "\n",
    "from sklearn.model_selection import train_test_split\n",
    "from sklearn.preprocessing import MinMaxScaler"
   ]
  },
  {
   "cell_type": "code",
   "execution_count": 2,
   "id": "a3017163",
   "metadata": {
    "execution": {
     "iopub.execute_input": "2022-02-25T07:03:09.411481Z",
     "iopub.status.busy": "2022-02-25T07:03:09.410447Z",
     "iopub.status.idle": "2022-02-25T07:03:09.529791Z",
     "shell.execute_reply": "2022-02-25T07:03:09.528701Z",
     "shell.execute_reply.started": "2022-02-25T06:55:36.924621Z"
    },
    "papermill": {
     "duration": 0.163379,
     "end_time": "2022-02-25T07:03:09.530126",
     "exception": false,
     "start_time": "2022-02-25T07:03:09.366747",
     "status": "completed"
    },
    "tags": []
   },
   "outputs": [
    {
     "data": {
      "text/html": [
       "<div>\n",
       "<style scoped>\n",
       "    .dataframe tbody tr th:only-of-type {\n",
       "        vertical-align: middle;\n",
       "    }\n",
       "\n",
       "    .dataframe tbody tr th {\n",
       "        vertical-align: top;\n",
       "    }\n",
       "\n",
       "    .dataframe thead th {\n",
       "        text-align: right;\n",
       "    }\n",
       "</style>\n",
       "<table border=\"1\" class=\"dataframe\">\n",
       "  <thead>\n",
       "    <tr style=\"text-align: right;\">\n",
       "      <th></th>\n",
       "      <th>customerID</th>\n",
       "      <th>gender</th>\n",
       "      <th>SeniorCitizen</th>\n",
       "      <th>Partner</th>\n",
       "      <th>Dependents</th>\n",
       "      <th>tenure</th>\n",
       "      <th>PhoneService</th>\n",
       "      <th>MultipleLines</th>\n",
       "      <th>InternetService</th>\n",
       "      <th>OnlineSecurity</th>\n",
       "      <th>...</th>\n",
       "      <th>DeviceProtection</th>\n",
       "      <th>TechSupport</th>\n",
       "      <th>StreamingTV</th>\n",
       "      <th>StreamingMovies</th>\n",
       "      <th>Contract</th>\n",
       "      <th>PaperlessBilling</th>\n",
       "      <th>PaymentMethod</th>\n",
       "      <th>MonthlyCharges</th>\n",
       "      <th>TotalCharges</th>\n",
       "      <th>Churn</th>\n",
       "    </tr>\n",
       "  </thead>\n",
       "  <tbody>\n",
       "    <tr>\n",
       "      <th>365</th>\n",
       "      <td>1010-DIAUQ</td>\n",
       "      <td>Male</td>\n",
       "      <td>0</td>\n",
       "      <td>No</td>\n",
       "      <td>No</td>\n",
       "      <td>5</td>\n",
       "      <td>Yes</td>\n",
       "      <td>No</td>\n",
       "      <td>Fiber optic</td>\n",
       "      <td>No</td>\n",
       "      <td>...</td>\n",
       "      <td>Yes</td>\n",
       "      <td>No</td>\n",
       "      <td>Yes</td>\n",
       "      <td>Yes</td>\n",
       "      <td>Month-to-month</td>\n",
       "      <td>No</td>\n",
       "      <td>Bank transfer (automatic)</td>\n",
       "      <td>96.50</td>\n",
       "      <td>492.55</td>\n",
       "      <td>Yes</td>\n",
       "    </tr>\n",
       "    <tr>\n",
       "      <th>2952</th>\n",
       "      <td>5260-UMPWX</td>\n",
       "      <td>Female</td>\n",
       "      <td>0</td>\n",
       "      <td>Yes</td>\n",
       "      <td>Yes</td>\n",
       "      <td>26</td>\n",
       "      <td>Yes</td>\n",
       "      <td>No</td>\n",
       "      <td>No</td>\n",
       "      <td>No internet service</td>\n",
       "      <td>...</td>\n",
       "      <td>No internet service</td>\n",
       "      <td>No internet service</td>\n",
       "      <td>No internet service</td>\n",
       "      <td>No internet service</td>\n",
       "      <td>Month-to-month</td>\n",
       "      <td>Yes</td>\n",
       "      <td>Credit card (automatic)</td>\n",
       "      <td>20.25</td>\n",
       "      <td>493.95</td>\n",
       "      <td>No</td>\n",
       "    </tr>\n",
       "    <tr>\n",
       "      <th>1714</th>\n",
       "      <td>8932-CZHRQ</td>\n",
       "      <td>Male</td>\n",
       "      <td>0</td>\n",
       "      <td>No</td>\n",
       "      <td>No</td>\n",
       "      <td>68</td>\n",
       "      <td>Yes</td>\n",
       "      <td>Yes</td>\n",
       "      <td>DSL</td>\n",
       "      <td>Yes</td>\n",
       "      <td>...</td>\n",
       "      <td>Yes</td>\n",
       "      <td>No</td>\n",
       "      <td>No</td>\n",
       "      <td>Yes</td>\n",
       "      <td>One year</td>\n",
       "      <td>No</td>\n",
       "      <td>Credit card (automatic)</td>\n",
       "      <td>76.75</td>\n",
       "      <td>5233.25</td>\n",
       "      <td>No</td>\n",
       "    </tr>\n",
       "    <tr>\n",
       "      <th>3489</th>\n",
       "      <td>0975-UYDTX</td>\n",
       "      <td>Female</td>\n",
       "      <td>0</td>\n",
       "      <td>Yes</td>\n",
       "      <td>No</td>\n",
       "      <td>26</td>\n",
       "      <td>Yes</td>\n",
       "      <td>Yes</td>\n",
       "      <td>DSL</td>\n",
       "      <td>Yes</td>\n",
       "      <td>...</td>\n",
       "      <td>Yes</td>\n",
       "      <td>Yes</td>\n",
       "      <td>Yes</td>\n",
       "      <td>Yes</td>\n",
       "      <td>One year</td>\n",
       "      <td>Yes</td>\n",
       "      <td>Credit card (automatic)</td>\n",
       "      <td>90.10</td>\n",
       "      <td>2312.55</td>\n",
       "      <td>No</td>\n",
       "    </tr>\n",
       "    <tr>\n",
       "      <th>5279</th>\n",
       "      <td>0394-YONDK</td>\n",
       "      <td>Male</td>\n",
       "      <td>0</td>\n",
       "      <td>Yes</td>\n",
       "      <td>Yes</td>\n",
       "      <td>70</td>\n",
       "      <td>Yes</td>\n",
       "      <td>Yes</td>\n",
       "      <td>No</td>\n",
       "      <td>No internet service</td>\n",
       "      <td>...</td>\n",
       "      <td>No internet service</td>\n",
       "      <td>No internet service</td>\n",
       "      <td>No internet service</td>\n",
       "      <td>No internet service</td>\n",
       "      <td>Two year</td>\n",
       "      <td>No</td>\n",
       "      <td>Credit card (automatic)</td>\n",
       "      <td>25.15</td>\n",
       "      <td>1790.15</td>\n",
       "      <td>No</td>\n",
       "    </tr>\n",
       "  </tbody>\n",
       "</table>\n",
       "<p>5 rows × 21 columns</p>\n",
       "</div>"
      ],
      "text/plain": [
       "      customerID  gender  SeniorCitizen Partner Dependents  tenure  \\\n",
       "365   1010-DIAUQ    Male              0      No         No       5   \n",
       "2952  5260-UMPWX  Female              0     Yes        Yes      26   \n",
       "1714  8932-CZHRQ    Male              0      No         No      68   \n",
       "3489  0975-UYDTX  Female              0     Yes         No      26   \n",
       "5279  0394-YONDK    Male              0     Yes        Yes      70   \n",
       "\n",
       "     PhoneService MultipleLines InternetService       OnlineSecurity  ...  \\\n",
       "365           Yes            No     Fiber optic                   No  ...   \n",
       "2952          Yes            No              No  No internet service  ...   \n",
       "1714          Yes           Yes             DSL                  Yes  ...   \n",
       "3489          Yes           Yes             DSL                  Yes  ...   \n",
       "5279          Yes           Yes              No  No internet service  ...   \n",
       "\n",
       "         DeviceProtection          TechSupport          StreamingTV  \\\n",
       "365                   Yes                   No                  Yes   \n",
       "2952  No internet service  No internet service  No internet service   \n",
       "1714                  Yes                   No                   No   \n",
       "3489                  Yes                  Yes                  Yes   \n",
       "5279  No internet service  No internet service  No internet service   \n",
       "\n",
       "          StreamingMovies        Contract PaperlessBilling  \\\n",
       "365                   Yes  Month-to-month               No   \n",
       "2952  No internet service  Month-to-month              Yes   \n",
       "1714                  Yes        One year               No   \n",
       "3489                  Yes        One year              Yes   \n",
       "5279  No internet service        Two year               No   \n",
       "\n",
       "                  PaymentMethod MonthlyCharges  TotalCharges Churn  \n",
       "365   Bank transfer (automatic)          96.50        492.55   Yes  \n",
       "2952    Credit card (automatic)          20.25        493.95    No  \n",
       "1714    Credit card (automatic)          76.75       5233.25    No  \n",
       "3489    Credit card (automatic)          90.10       2312.55    No  \n",
       "5279    Credit card (automatic)          25.15       1790.15    No  \n",
       "\n",
       "[5 rows x 21 columns]"
      ]
     },
     "execution_count": 2,
     "metadata": {},
     "output_type": "execute_result"
    }
   ],
   "source": [
    "data_frame = pd.read_csv(\"../input/telco-customer-churn/WA_Fn-UseC_-Telco-Customer-Churn.csv\")\n",
    "data_frame.sample(5)"
   ]
  },
  {
   "cell_type": "code",
   "execution_count": 3,
   "id": "99b88cff",
   "metadata": {
    "execution": {
     "iopub.execute_input": "2022-02-25T07:03:09.619085Z",
     "iopub.status.busy": "2022-02-25T07:03:09.618023Z",
     "iopub.status.idle": "2022-02-25T07:03:09.621823Z",
     "shell.execute_reply": "2022-02-25T07:03:09.622594Z",
     "shell.execute_reply.started": "2022-02-25T06:55:37.004021Z"
    },
    "papermill": {
     "duration": 0.048799,
     "end_time": "2022-02-25T07:03:09.623063",
     "exception": false,
     "start_time": "2022-02-25T07:03:09.574264",
     "status": "completed"
    },
    "tags": []
   },
   "outputs": [
    {
     "data": {
      "text/plain": [
       "(7043, 21)"
      ]
     },
     "execution_count": 3,
     "metadata": {},
     "output_type": "execute_result"
    }
   ],
   "source": [
    "data_frame.shape"
   ]
  },
  {
   "cell_type": "markdown",
   "id": "f0af8f74",
   "metadata": {
    "papermill": {
     "duration": 0.038897,
     "end_time": "2022-02-25T07:03:09.708987",
     "exception": false,
     "start_time": "2022-02-25T07:03:09.670090",
     "status": "completed"
    },
    "tags": []
   },
   "source": [
    "Data Cleanup"
   ]
  },
  {
   "cell_type": "code",
   "execution_count": 4,
   "id": "87a3c1cd",
   "metadata": {
    "execution": {
     "iopub.execute_input": "2022-02-25T07:03:09.795867Z",
     "iopub.status.busy": "2022-02-25T07:03:09.794737Z",
     "iopub.status.idle": "2022-02-25T07:03:09.801479Z",
     "shell.execute_reply": "2022-02-25T07:03:09.800750Z",
     "shell.execute_reply.started": "2022-02-25T06:55:37.012093Z"
    },
    "papermill": {
     "duration": 0.054763,
     "end_time": "2022-02-25T07:03:09.801637",
     "exception": false,
     "start_time": "2022-02-25T07:03:09.746874",
     "status": "completed"
    },
    "tags": []
   },
   "outputs": [],
   "source": [
    "data_frame.drop(['customerID'],axis = 'columns',inplace = True)"
   ]
  },
  {
   "cell_type": "code",
   "execution_count": 5,
   "id": "05e44cae",
   "metadata": {
    "execution": {
     "iopub.execute_input": "2022-02-25T07:03:09.888176Z",
     "iopub.status.busy": "2022-02-25T07:03:09.887457Z",
     "iopub.status.idle": "2022-02-25T07:03:09.894195Z",
     "shell.execute_reply": "2022-02-25T07:03:09.894753Z",
     "shell.execute_reply.started": "2022-02-25T06:55:37.031102Z"
    },
    "papermill": {
     "duration": 0.05315,
     "end_time": "2022-02-25T07:03:09.894929",
     "exception": false,
     "start_time": "2022-02-25T07:03:09.841779",
     "status": "completed"
    },
    "tags": []
   },
   "outputs": [
    {
     "data": {
      "text/plain": [
       "gender               object\n",
       "SeniorCitizen         int64\n",
       "Partner              object\n",
       "Dependents           object\n",
       "tenure                int64\n",
       "PhoneService         object\n",
       "MultipleLines        object\n",
       "InternetService      object\n",
       "OnlineSecurity       object\n",
       "OnlineBackup         object\n",
       "DeviceProtection     object\n",
       "TechSupport          object\n",
       "StreamingTV          object\n",
       "StreamingMovies      object\n",
       "Contract             object\n",
       "PaperlessBilling     object\n",
       "PaymentMethod        object\n",
       "MonthlyCharges      float64\n",
       "TotalCharges         object\n",
       "Churn                object\n",
       "dtype: object"
      ]
     },
     "execution_count": 5,
     "metadata": {},
     "output_type": "execute_result"
    }
   ],
   "source": [
    "data_frame.dtypes"
   ]
  },
  {
   "cell_type": "code",
   "execution_count": 6,
   "id": "a0ef01d9",
   "metadata": {
    "execution": {
     "iopub.execute_input": "2022-02-25T07:03:09.980703Z",
     "iopub.status.busy": "2022-02-25T07:03:09.980005Z",
     "iopub.status.idle": "2022-02-25T07:03:09.982737Z",
     "shell.execute_reply": "2022-02-25T07:03:09.983210Z",
     "shell.execute_reply.started": "2022-02-25T06:55:37.048179Z"
    },
    "papermill": {
     "duration": 0.050185,
     "end_time": "2022-02-25T07:03:09.983389",
     "exception": false,
     "start_time": "2022-02-25T07:03:09.933204",
     "status": "completed"
    },
    "tags": []
   },
   "outputs": [
    {
     "data": {
      "text/plain": [
       "array(['29.85', '1889.5', '108.15', ..., '346.45', '306.6', '6844.5'],\n",
       "      dtype=object)"
      ]
     },
     "execution_count": 6,
     "metadata": {},
     "output_type": "execute_result"
    }
   ],
   "source": [
    "data_frame.TotalCharges.values\n",
    "#TotalCharges contain Strings"
   ]
  },
  {
   "cell_type": "code",
   "execution_count": 7,
   "id": "064cd696",
   "metadata": {
    "execution": {
     "iopub.execute_input": "2022-02-25T07:03:10.095240Z",
     "iopub.status.busy": "2022-02-25T07:03:10.065072Z",
     "iopub.status.idle": "2022-02-25T07:03:10.098555Z",
     "shell.execute_reply": "2022-02-25T07:03:10.099076Z",
     "shell.execute_reply.started": "2022-02-25T06:55:37.059203Z"
    },
    "papermill": {
     "duration": 0.077472,
     "end_time": "2022-02-25T07:03:10.099284",
     "exception": false,
     "start_time": "2022-02-25T07:03:10.021812",
     "status": "completed"
    },
    "tags": []
   },
   "outputs": [
    {
     "data": {
      "text/html": [
       "<div>\n",
       "<style scoped>\n",
       "    .dataframe tbody tr th:only-of-type {\n",
       "        vertical-align: middle;\n",
       "    }\n",
       "\n",
       "    .dataframe tbody tr th {\n",
       "        vertical-align: top;\n",
       "    }\n",
       "\n",
       "    .dataframe thead th {\n",
       "        text-align: right;\n",
       "    }\n",
       "</style>\n",
       "<table border=\"1\" class=\"dataframe\">\n",
       "  <thead>\n",
       "    <tr style=\"text-align: right;\">\n",
       "      <th></th>\n",
       "      <th>gender</th>\n",
       "      <th>SeniorCitizen</th>\n",
       "      <th>Partner</th>\n",
       "      <th>Dependents</th>\n",
       "      <th>tenure</th>\n",
       "      <th>PhoneService</th>\n",
       "      <th>MultipleLines</th>\n",
       "      <th>InternetService</th>\n",
       "      <th>OnlineSecurity</th>\n",
       "      <th>OnlineBackup</th>\n",
       "      <th>DeviceProtection</th>\n",
       "      <th>TechSupport</th>\n",
       "      <th>StreamingTV</th>\n",
       "      <th>StreamingMovies</th>\n",
       "      <th>Contract</th>\n",
       "      <th>PaperlessBilling</th>\n",
       "      <th>PaymentMethod</th>\n",
       "      <th>MonthlyCharges</th>\n",
       "      <th>TotalCharges</th>\n",
       "      <th>Churn</th>\n",
       "    </tr>\n",
       "  </thead>\n",
       "  <tbody>\n",
       "    <tr>\n",
       "      <th>488</th>\n",
       "      <td>Female</td>\n",
       "      <td>0</td>\n",
       "      <td>Yes</td>\n",
       "      <td>Yes</td>\n",
       "      <td>0</td>\n",
       "      <td>No</td>\n",
       "      <td>No phone service</td>\n",
       "      <td>DSL</td>\n",
       "      <td>Yes</td>\n",
       "      <td>No</td>\n",
       "      <td>Yes</td>\n",
       "      <td>Yes</td>\n",
       "      <td>Yes</td>\n",
       "      <td>No</td>\n",
       "      <td>Two year</td>\n",
       "      <td>Yes</td>\n",
       "      <td>Bank transfer (automatic)</td>\n",
       "      <td>52.55</td>\n",
       "      <td></td>\n",
       "      <td>No</td>\n",
       "    </tr>\n",
       "    <tr>\n",
       "      <th>753</th>\n",
       "      <td>Male</td>\n",
       "      <td>0</td>\n",
       "      <td>No</td>\n",
       "      <td>Yes</td>\n",
       "      <td>0</td>\n",
       "      <td>Yes</td>\n",
       "      <td>No</td>\n",
       "      <td>No</td>\n",
       "      <td>No internet service</td>\n",
       "      <td>No internet service</td>\n",
       "      <td>No internet service</td>\n",
       "      <td>No internet service</td>\n",
       "      <td>No internet service</td>\n",
       "      <td>No internet service</td>\n",
       "      <td>Two year</td>\n",
       "      <td>No</td>\n",
       "      <td>Mailed check</td>\n",
       "      <td>20.25</td>\n",
       "      <td></td>\n",
       "      <td>No</td>\n",
       "    </tr>\n",
       "    <tr>\n",
       "      <th>936</th>\n",
       "      <td>Female</td>\n",
       "      <td>0</td>\n",
       "      <td>Yes</td>\n",
       "      <td>Yes</td>\n",
       "      <td>0</td>\n",
       "      <td>Yes</td>\n",
       "      <td>No</td>\n",
       "      <td>DSL</td>\n",
       "      <td>Yes</td>\n",
       "      <td>Yes</td>\n",
       "      <td>Yes</td>\n",
       "      <td>No</td>\n",
       "      <td>Yes</td>\n",
       "      <td>Yes</td>\n",
       "      <td>Two year</td>\n",
       "      <td>No</td>\n",
       "      <td>Mailed check</td>\n",
       "      <td>80.85</td>\n",
       "      <td></td>\n",
       "      <td>No</td>\n",
       "    </tr>\n",
       "    <tr>\n",
       "      <th>1082</th>\n",
       "      <td>Male</td>\n",
       "      <td>0</td>\n",
       "      <td>Yes</td>\n",
       "      <td>Yes</td>\n",
       "      <td>0</td>\n",
       "      <td>Yes</td>\n",
       "      <td>Yes</td>\n",
       "      <td>No</td>\n",
       "      <td>No internet service</td>\n",
       "      <td>No internet service</td>\n",
       "      <td>No internet service</td>\n",
       "      <td>No internet service</td>\n",
       "      <td>No internet service</td>\n",
       "      <td>No internet service</td>\n",
       "      <td>Two year</td>\n",
       "      <td>No</td>\n",
       "      <td>Mailed check</td>\n",
       "      <td>25.75</td>\n",
       "      <td></td>\n",
       "      <td>No</td>\n",
       "    </tr>\n",
       "    <tr>\n",
       "      <th>1340</th>\n",
       "      <td>Female</td>\n",
       "      <td>0</td>\n",
       "      <td>Yes</td>\n",
       "      <td>Yes</td>\n",
       "      <td>0</td>\n",
       "      <td>No</td>\n",
       "      <td>No phone service</td>\n",
       "      <td>DSL</td>\n",
       "      <td>Yes</td>\n",
       "      <td>Yes</td>\n",
       "      <td>Yes</td>\n",
       "      <td>Yes</td>\n",
       "      <td>Yes</td>\n",
       "      <td>No</td>\n",
       "      <td>Two year</td>\n",
       "      <td>No</td>\n",
       "      <td>Credit card (automatic)</td>\n",
       "      <td>56.05</td>\n",
       "      <td></td>\n",
       "      <td>No</td>\n",
       "    </tr>\n",
       "    <tr>\n",
       "      <th>3331</th>\n",
       "      <td>Male</td>\n",
       "      <td>0</td>\n",
       "      <td>Yes</td>\n",
       "      <td>Yes</td>\n",
       "      <td>0</td>\n",
       "      <td>Yes</td>\n",
       "      <td>No</td>\n",
       "      <td>No</td>\n",
       "      <td>No internet service</td>\n",
       "      <td>No internet service</td>\n",
       "      <td>No internet service</td>\n",
       "      <td>No internet service</td>\n",
       "      <td>No internet service</td>\n",
       "      <td>No internet service</td>\n",
       "      <td>Two year</td>\n",
       "      <td>No</td>\n",
       "      <td>Mailed check</td>\n",
       "      <td>19.85</td>\n",
       "      <td></td>\n",
       "      <td>No</td>\n",
       "    </tr>\n",
       "    <tr>\n",
       "      <th>3826</th>\n",
       "      <td>Male</td>\n",
       "      <td>0</td>\n",
       "      <td>Yes</td>\n",
       "      <td>Yes</td>\n",
       "      <td>0</td>\n",
       "      <td>Yes</td>\n",
       "      <td>Yes</td>\n",
       "      <td>No</td>\n",
       "      <td>No internet service</td>\n",
       "      <td>No internet service</td>\n",
       "      <td>No internet service</td>\n",
       "      <td>No internet service</td>\n",
       "      <td>No internet service</td>\n",
       "      <td>No internet service</td>\n",
       "      <td>Two year</td>\n",
       "      <td>No</td>\n",
       "      <td>Mailed check</td>\n",
       "      <td>25.35</td>\n",
       "      <td></td>\n",
       "      <td>No</td>\n",
       "    </tr>\n",
       "    <tr>\n",
       "      <th>4380</th>\n",
       "      <td>Female</td>\n",
       "      <td>0</td>\n",
       "      <td>Yes</td>\n",
       "      <td>Yes</td>\n",
       "      <td>0</td>\n",
       "      <td>Yes</td>\n",
       "      <td>No</td>\n",
       "      <td>No</td>\n",
       "      <td>No internet service</td>\n",
       "      <td>No internet service</td>\n",
       "      <td>No internet service</td>\n",
       "      <td>No internet service</td>\n",
       "      <td>No internet service</td>\n",
       "      <td>No internet service</td>\n",
       "      <td>Two year</td>\n",
       "      <td>No</td>\n",
       "      <td>Mailed check</td>\n",
       "      <td>20.00</td>\n",
       "      <td></td>\n",
       "      <td>No</td>\n",
       "    </tr>\n",
       "    <tr>\n",
       "      <th>5218</th>\n",
       "      <td>Male</td>\n",
       "      <td>0</td>\n",
       "      <td>Yes</td>\n",
       "      <td>Yes</td>\n",
       "      <td>0</td>\n",
       "      <td>Yes</td>\n",
       "      <td>No</td>\n",
       "      <td>No</td>\n",
       "      <td>No internet service</td>\n",
       "      <td>No internet service</td>\n",
       "      <td>No internet service</td>\n",
       "      <td>No internet service</td>\n",
       "      <td>No internet service</td>\n",
       "      <td>No internet service</td>\n",
       "      <td>One year</td>\n",
       "      <td>Yes</td>\n",
       "      <td>Mailed check</td>\n",
       "      <td>19.70</td>\n",
       "      <td></td>\n",
       "      <td>No</td>\n",
       "    </tr>\n",
       "    <tr>\n",
       "      <th>6670</th>\n",
       "      <td>Female</td>\n",
       "      <td>0</td>\n",
       "      <td>Yes</td>\n",
       "      <td>Yes</td>\n",
       "      <td>0</td>\n",
       "      <td>Yes</td>\n",
       "      <td>Yes</td>\n",
       "      <td>DSL</td>\n",
       "      <td>No</td>\n",
       "      <td>Yes</td>\n",
       "      <td>Yes</td>\n",
       "      <td>Yes</td>\n",
       "      <td>Yes</td>\n",
       "      <td>No</td>\n",
       "      <td>Two year</td>\n",
       "      <td>No</td>\n",
       "      <td>Mailed check</td>\n",
       "      <td>73.35</td>\n",
       "      <td></td>\n",
       "      <td>No</td>\n",
       "    </tr>\n",
       "    <tr>\n",
       "      <th>6754</th>\n",
       "      <td>Male</td>\n",
       "      <td>0</td>\n",
       "      <td>No</td>\n",
       "      <td>Yes</td>\n",
       "      <td>0</td>\n",
       "      <td>Yes</td>\n",
       "      <td>Yes</td>\n",
       "      <td>DSL</td>\n",
       "      <td>Yes</td>\n",
       "      <td>Yes</td>\n",
       "      <td>No</td>\n",
       "      <td>Yes</td>\n",
       "      <td>No</td>\n",
       "      <td>No</td>\n",
       "      <td>Two year</td>\n",
       "      <td>Yes</td>\n",
       "      <td>Bank transfer (automatic)</td>\n",
       "      <td>61.90</td>\n",
       "      <td></td>\n",
       "      <td>No</td>\n",
       "    </tr>\n",
       "  </tbody>\n",
       "</table>\n",
       "</div>"
      ],
      "text/plain": [
       "      gender  SeniorCitizen Partner Dependents  tenure PhoneService  \\\n",
       "488   Female              0     Yes        Yes       0           No   \n",
       "753     Male              0      No        Yes       0          Yes   \n",
       "936   Female              0     Yes        Yes       0          Yes   \n",
       "1082    Male              0     Yes        Yes       0          Yes   \n",
       "1340  Female              0     Yes        Yes       0           No   \n",
       "3331    Male              0     Yes        Yes       0          Yes   \n",
       "3826    Male              0     Yes        Yes       0          Yes   \n",
       "4380  Female              0     Yes        Yes       0          Yes   \n",
       "5218    Male              0     Yes        Yes       0          Yes   \n",
       "6670  Female              0     Yes        Yes       0          Yes   \n",
       "6754    Male              0      No        Yes       0          Yes   \n",
       "\n",
       "         MultipleLines InternetService       OnlineSecurity  \\\n",
       "488   No phone service             DSL                  Yes   \n",
       "753                 No              No  No internet service   \n",
       "936                 No             DSL                  Yes   \n",
       "1082               Yes              No  No internet service   \n",
       "1340  No phone service             DSL                  Yes   \n",
       "3331                No              No  No internet service   \n",
       "3826               Yes              No  No internet service   \n",
       "4380                No              No  No internet service   \n",
       "5218                No              No  No internet service   \n",
       "6670               Yes             DSL                   No   \n",
       "6754               Yes             DSL                  Yes   \n",
       "\n",
       "             OnlineBackup     DeviceProtection          TechSupport  \\\n",
       "488                    No                  Yes                  Yes   \n",
       "753   No internet service  No internet service  No internet service   \n",
       "936                   Yes                  Yes                   No   \n",
       "1082  No internet service  No internet service  No internet service   \n",
       "1340                  Yes                  Yes                  Yes   \n",
       "3331  No internet service  No internet service  No internet service   \n",
       "3826  No internet service  No internet service  No internet service   \n",
       "4380  No internet service  No internet service  No internet service   \n",
       "5218  No internet service  No internet service  No internet service   \n",
       "6670                  Yes                  Yes                  Yes   \n",
       "6754                  Yes                   No                  Yes   \n",
       "\n",
       "              StreamingTV      StreamingMovies  Contract PaperlessBilling  \\\n",
       "488                   Yes                   No  Two year              Yes   \n",
       "753   No internet service  No internet service  Two year               No   \n",
       "936                   Yes                  Yes  Two year               No   \n",
       "1082  No internet service  No internet service  Two year               No   \n",
       "1340                  Yes                   No  Two year               No   \n",
       "3331  No internet service  No internet service  Two year               No   \n",
       "3826  No internet service  No internet service  Two year               No   \n",
       "4380  No internet service  No internet service  Two year               No   \n",
       "5218  No internet service  No internet service  One year              Yes   \n",
       "6670                  Yes                   No  Two year               No   \n",
       "6754                   No                   No  Two year              Yes   \n",
       "\n",
       "                  PaymentMethod  MonthlyCharges TotalCharges Churn  \n",
       "488   Bank transfer (automatic)           52.55                 No  \n",
       "753                Mailed check           20.25                 No  \n",
       "936                Mailed check           80.85                 No  \n",
       "1082               Mailed check           25.75                 No  \n",
       "1340    Credit card (automatic)           56.05                 No  \n",
       "3331               Mailed check           19.85                 No  \n",
       "3826               Mailed check           25.35                 No  \n",
       "4380               Mailed check           20.00                 No  \n",
       "5218               Mailed check           19.70                 No  \n",
       "6670               Mailed check           73.35                 No  \n",
       "6754  Bank transfer (automatic)           61.90                 No  "
      ]
     },
     "execution_count": 7,
     "metadata": {},
     "output_type": "execute_result"
    }
   ],
   "source": [
    "data_frame[pd.to_numeric(data_frame.TotalCharges, errors = 'coerce').isnull()]"
   ]
  },
  {
   "cell_type": "code",
   "execution_count": 8,
   "id": "4efaffb2",
   "metadata": {
    "execution": {
     "iopub.execute_input": "2022-02-25T07:03:10.180611Z",
     "iopub.status.busy": "2022-02-25T07:03:10.179936Z",
     "iopub.status.idle": "2022-02-25T07:03:10.191575Z",
     "shell.execute_reply": "2022-02-25T07:03:10.192095Z",
     "shell.execute_reply.started": "2022-02-25T06:55:37.104037Z"
    },
    "papermill": {
     "duration": 0.053129,
     "end_time": "2022-02-25T07:03:10.192271",
     "exception": false,
     "start_time": "2022-02-25T07:03:10.139142",
     "status": "completed"
    },
    "tags": []
   },
   "outputs": [
    {
     "data": {
      "text/plain": [
       "(11, 20)"
      ]
     },
     "execution_count": 8,
     "metadata": {},
     "output_type": "execute_result"
    }
   ],
   "source": [
    "data_frame[pd.to_numeric(data_frame.TotalCharges, errors = 'coerce').isnull()].shape"
   ]
  },
  {
   "cell_type": "code",
   "execution_count": 9,
   "id": "fb63d311",
   "metadata": {
    "execution": {
     "iopub.execute_input": "2022-02-25T07:03:10.273892Z",
     "iopub.status.busy": "2022-02-25T07:03:10.273242Z",
     "iopub.status.idle": "2022-02-25T07:03:10.279815Z",
     "shell.execute_reply": "2022-02-25T07:03:10.280322Z",
     "shell.execute_reply.started": "2022-02-25T06:55:37.124800Z"
    },
    "papermill": {
     "duration": 0.049094,
     "end_time": "2022-02-25T07:03:10.280515",
     "exception": false,
     "start_time": "2022-02-25T07:03:10.231421",
     "status": "completed"
    },
    "tags": []
   },
   "outputs": [],
   "source": [
    "#For Droping null vales from data_frame.TotalCharges\n",
    "df1 = data_frame[data_frame.TotalCharges != ' ']"
   ]
  },
  {
   "cell_type": "code",
   "execution_count": 10,
   "id": "b21a2b4f",
   "metadata": {
    "execution": {
     "iopub.execute_input": "2022-02-25T07:03:10.361166Z",
     "iopub.status.busy": "2022-02-25T07:03:10.360348Z",
     "iopub.status.idle": "2022-02-25T07:03:10.365912Z",
     "shell.execute_reply": "2022-02-25T07:03:10.366437Z",
     "shell.execute_reply.started": "2022-02-25T06:55:37.137392Z"
    },
    "papermill": {
     "duration": 0.04843,
     "end_time": "2022-02-25T07:03:10.366616",
     "exception": false,
     "start_time": "2022-02-25T07:03:10.318186",
     "status": "completed"
    },
    "tags": []
   },
   "outputs": [
    {
     "data": {
      "text/plain": [
       "(7032, 20)"
      ]
     },
     "execution_count": 10,
     "metadata": {},
     "output_type": "execute_result"
    }
   ],
   "source": [
    "df1.shape"
   ]
  },
  {
   "cell_type": "code",
   "execution_count": 11,
   "id": "ad5de298",
   "metadata": {
    "execution": {
     "iopub.execute_input": "2022-02-25T07:03:10.452365Z",
     "iopub.status.busy": "2022-02-25T07:03:10.451729Z",
     "iopub.status.idle": "2022-02-25T07:03:10.469392Z",
     "shell.execute_reply": "2022-02-25T07:03:10.468687Z",
     "shell.execute_reply.started": "2022-02-25T06:55:37.152205Z"
    },
    "papermill": {
     "duration": 0.061564,
     "end_time": "2022-02-25T07:03:10.469601",
     "exception": false,
     "start_time": "2022-02-25T07:03:10.408037",
     "status": "completed"
    },
    "tags": []
   },
   "outputs": [
    {
     "name": "stderr",
     "output_type": "stream",
     "text": [
      "/opt/conda/lib/python3.7/site-packages/pandas/core/generic.py:5516: SettingWithCopyWarning: \n",
      "A value is trying to be set on a copy of a slice from a DataFrame.\n",
      "Try using .loc[row_indexer,col_indexer] = value instead\n",
      "\n",
      "See the caveats in the documentation: https://pandas.pydata.org/pandas-docs/stable/user_guide/indexing.html#returning-a-view-versus-a-copy\n",
      "  self[name] = value\n"
     ]
    }
   ],
   "source": [
    "#To convert String into numeric\n",
    "df1.TotalCharges = pd.to_numeric(df1.TotalCharges)"
   ]
  },
  {
   "cell_type": "code",
   "execution_count": 12,
   "id": "62e7fcb0",
   "metadata": {
    "execution": {
     "iopub.execute_input": "2022-02-25T07:03:10.556003Z",
     "iopub.status.busy": "2022-02-25T07:03:10.555038Z",
     "iopub.status.idle": "2022-02-25T07:03:10.562457Z",
     "shell.execute_reply": "2022-02-25T07:03:10.562936Z",
     "shell.execute_reply.started": "2022-02-25T06:55:37.176198Z"
    },
    "papermill": {
     "duration": 0.051664,
     "end_time": "2022-02-25T07:03:10.563121",
     "exception": false,
     "start_time": "2022-02-25T07:03:10.511457",
     "status": "completed"
    },
    "tags": []
   },
   "outputs": [
    {
     "data": {
      "text/plain": [
       "array([  29.85, 1889.5 ,  108.15, ...,  346.45,  306.6 , 6844.5 ])"
      ]
     },
     "execution_count": 12,
     "metadata": {},
     "output_type": "execute_result"
    }
   ],
   "source": [
    "df1.TotalCharges.values"
   ]
  },
  {
   "cell_type": "code",
   "execution_count": 13,
   "id": "865b11cd",
   "metadata": {
    "execution": {
     "iopub.execute_input": "2022-02-25T07:03:10.645967Z",
     "iopub.status.busy": "2022-02-25T07:03:10.645253Z",
     "iopub.status.idle": "2022-02-25T07:03:10.650769Z",
     "shell.execute_reply": "2022-02-25T07:03:10.651299Z",
     "shell.execute_reply.started": "2022-02-25T06:55:37.185499Z"
    },
    "papermill": {
     "duration": 0.047795,
     "end_time": "2022-02-25T07:03:10.651499",
     "exception": false,
     "start_time": "2022-02-25T07:03:10.603704",
     "status": "completed"
    },
    "tags": []
   },
   "outputs": [
    {
     "data": {
      "text/plain": [
       "dtype('float64')"
      ]
     },
     "execution_count": 13,
     "metadata": {},
     "output_type": "execute_result"
    }
   ],
   "source": [
    "df1.TotalCharges.dtypes"
   ]
  },
  {
   "cell_type": "code",
   "execution_count": 14,
   "id": "13d778d4",
   "metadata": {
    "execution": {
     "iopub.execute_input": "2022-02-25T07:03:10.740347Z",
     "iopub.status.busy": "2022-02-25T07:03:10.736723Z",
     "iopub.status.idle": "2022-02-25T07:03:10.763758Z",
     "shell.execute_reply": "2022-02-25T07:03:10.764418Z",
     "shell.execute_reply.started": "2022-02-25T06:55:37.200646Z"
    },
    "papermill": {
     "duration": 0.072897,
     "end_time": "2022-02-25T07:03:10.764617",
     "exception": false,
     "start_time": "2022-02-25T07:03:10.691720",
     "status": "completed"
    },
    "tags": []
   },
   "outputs": [
    {
     "data": {
      "text/html": [
       "<div>\n",
       "<style scoped>\n",
       "    .dataframe tbody tr th:only-of-type {\n",
       "        vertical-align: middle;\n",
       "    }\n",
       "\n",
       "    .dataframe tbody tr th {\n",
       "        vertical-align: top;\n",
       "    }\n",
       "\n",
       "    .dataframe thead th {\n",
       "        text-align: right;\n",
       "    }\n",
       "</style>\n",
       "<table border=\"1\" class=\"dataframe\">\n",
       "  <thead>\n",
       "    <tr style=\"text-align: right;\">\n",
       "      <th></th>\n",
       "      <th>gender</th>\n",
       "      <th>SeniorCitizen</th>\n",
       "      <th>Partner</th>\n",
       "      <th>Dependents</th>\n",
       "      <th>tenure</th>\n",
       "      <th>PhoneService</th>\n",
       "      <th>MultipleLines</th>\n",
       "      <th>InternetService</th>\n",
       "      <th>OnlineSecurity</th>\n",
       "      <th>OnlineBackup</th>\n",
       "      <th>DeviceProtection</th>\n",
       "      <th>TechSupport</th>\n",
       "      <th>StreamingTV</th>\n",
       "      <th>StreamingMovies</th>\n",
       "      <th>Contract</th>\n",
       "      <th>PaperlessBilling</th>\n",
       "      <th>PaymentMethod</th>\n",
       "      <th>MonthlyCharges</th>\n",
       "      <th>TotalCharges</th>\n",
       "      <th>Churn</th>\n",
       "    </tr>\n",
       "  </thead>\n",
       "  <tbody>\n",
       "    <tr>\n",
       "      <th>4561</th>\n",
       "      <td>Female</td>\n",
       "      <td>0</td>\n",
       "      <td>Yes</td>\n",
       "      <td>Yes</td>\n",
       "      <td>8</td>\n",
       "      <td>Yes</td>\n",
       "      <td>Yes</td>\n",
       "      <td>DSL</td>\n",
       "      <td>No</td>\n",
       "      <td>Yes</td>\n",
       "      <td>No</td>\n",
       "      <td>No</td>\n",
       "      <td>No</td>\n",
       "      <td>No</td>\n",
       "      <td>Month-to-month</td>\n",
       "      <td>No</td>\n",
       "      <td>Electronic check</td>\n",
       "      <td>55.75</td>\n",
       "      <td>446.80</td>\n",
       "      <td>No</td>\n",
       "    </tr>\n",
       "    <tr>\n",
       "      <th>367</th>\n",
       "      <td>Female</td>\n",
       "      <td>0</td>\n",
       "      <td>No</td>\n",
       "      <td>No</td>\n",
       "      <td>1</td>\n",
       "      <td>Yes</td>\n",
       "      <td>No</td>\n",
       "      <td>No</td>\n",
       "      <td>No internet service</td>\n",
       "      <td>No internet service</td>\n",
       "      <td>No internet service</td>\n",
       "      <td>No internet service</td>\n",
       "      <td>No internet service</td>\n",
       "      <td>No internet service</td>\n",
       "      <td>Month-to-month</td>\n",
       "      <td>No</td>\n",
       "      <td>Mailed check</td>\n",
       "      <td>19.15</td>\n",
       "      <td>19.15</td>\n",
       "      <td>No</td>\n",
       "    </tr>\n",
       "    <tr>\n",
       "      <th>419</th>\n",
       "      <td>Female</td>\n",
       "      <td>1</td>\n",
       "      <td>No</td>\n",
       "      <td>No</td>\n",
       "      <td>1</td>\n",
       "      <td>Yes</td>\n",
       "      <td>No</td>\n",
       "      <td>Fiber optic</td>\n",
       "      <td>No</td>\n",
       "      <td>No</td>\n",
       "      <td>Yes</td>\n",
       "      <td>No</td>\n",
       "      <td>No</td>\n",
       "      <td>No</td>\n",
       "      <td>Month-to-month</td>\n",
       "      <td>Yes</td>\n",
       "      <td>Bank transfer (automatic)</td>\n",
       "      <td>75.30</td>\n",
       "      <td>75.30</td>\n",
       "      <td>Yes</td>\n",
       "    </tr>\n",
       "    <tr>\n",
       "      <th>2204</th>\n",
       "      <td>Male</td>\n",
       "      <td>0</td>\n",
       "      <td>Yes</td>\n",
       "      <td>Yes</td>\n",
       "      <td>67</td>\n",
       "      <td>Yes</td>\n",
       "      <td>Yes</td>\n",
       "      <td>Fiber optic</td>\n",
       "      <td>Yes</td>\n",
       "      <td>Yes</td>\n",
       "      <td>Yes</td>\n",
       "      <td>No</td>\n",
       "      <td>Yes</td>\n",
       "      <td>Yes</td>\n",
       "      <td>One year</td>\n",
       "      <td>Yes</td>\n",
       "      <td>Electronic check</td>\n",
       "      <td>111.30</td>\n",
       "      <td>7482.10</td>\n",
       "      <td>Yes</td>\n",
       "    </tr>\n",
       "    <tr>\n",
       "      <th>3398</th>\n",
       "      <td>Female</td>\n",
       "      <td>0</td>\n",
       "      <td>Yes</td>\n",
       "      <td>Yes</td>\n",
       "      <td>61</td>\n",
       "      <td>Yes</td>\n",
       "      <td>Yes</td>\n",
       "      <td>Fiber optic</td>\n",
       "      <td>Yes</td>\n",
       "      <td>Yes</td>\n",
       "      <td>Yes</td>\n",
       "      <td>No</td>\n",
       "      <td>No</td>\n",
       "      <td>Yes</td>\n",
       "      <td>One year</td>\n",
       "      <td>Yes</td>\n",
       "      <td>Credit card (automatic)</td>\n",
       "      <td>100.70</td>\n",
       "      <td>6018.65</td>\n",
       "      <td>No</td>\n",
       "    </tr>\n",
       "  </tbody>\n",
       "</table>\n",
       "</div>"
      ],
      "text/plain": [
       "      gender  SeniorCitizen Partner Dependents  tenure PhoneService  \\\n",
       "4561  Female              0     Yes        Yes       8          Yes   \n",
       "367   Female              0      No         No       1          Yes   \n",
       "419   Female              1      No         No       1          Yes   \n",
       "2204    Male              0     Yes        Yes      67          Yes   \n",
       "3398  Female              0     Yes        Yes      61          Yes   \n",
       "\n",
       "     MultipleLines InternetService       OnlineSecurity         OnlineBackup  \\\n",
       "4561           Yes             DSL                   No                  Yes   \n",
       "367             No              No  No internet service  No internet service   \n",
       "419             No     Fiber optic                   No                   No   \n",
       "2204           Yes     Fiber optic                  Yes                  Yes   \n",
       "3398           Yes     Fiber optic                  Yes                  Yes   \n",
       "\n",
       "         DeviceProtection          TechSupport          StreamingTV  \\\n",
       "4561                   No                   No                   No   \n",
       "367   No internet service  No internet service  No internet service   \n",
       "419                   Yes                   No                   No   \n",
       "2204                  Yes                   No                  Yes   \n",
       "3398                  Yes                   No                   No   \n",
       "\n",
       "          StreamingMovies        Contract PaperlessBilling  \\\n",
       "4561                   No  Month-to-month               No   \n",
       "367   No internet service  Month-to-month               No   \n",
       "419                    No  Month-to-month              Yes   \n",
       "2204                  Yes        One year              Yes   \n",
       "3398                  Yes        One year              Yes   \n",
       "\n",
       "                  PaymentMethod  MonthlyCharges  TotalCharges Churn  \n",
       "4561           Electronic check           55.75        446.80    No  \n",
       "367                Mailed check           19.15         19.15    No  \n",
       "419   Bank transfer (automatic)           75.30         75.30   Yes  \n",
       "2204           Electronic check          111.30       7482.10   Yes  \n",
       "3398    Credit card (automatic)          100.70       6018.65    No  "
      ]
     },
     "execution_count": 14,
     "metadata": {},
     "output_type": "execute_result"
    }
   ],
   "source": [
    "df1.sample(5)"
   ]
  },
  {
   "cell_type": "code",
   "execution_count": 15,
   "id": "b2b8937b",
   "metadata": {
    "execution": {
     "iopub.execute_input": "2022-02-25T07:03:10.855813Z",
     "iopub.status.busy": "2022-02-25T07:03:10.855111Z",
     "iopub.status.idle": "2022-02-25T07:03:11.217265Z",
     "shell.execute_reply": "2022-02-25T07:03:11.217832Z",
     "shell.execute_reply.started": "2022-02-25T06:55:37.235800Z"
    },
    "papermill": {
     "duration": 0.411506,
     "end_time": "2022-02-25T07:03:11.218022",
     "exception": false,
     "start_time": "2022-02-25T07:03:10.806516",
     "status": "completed"
    },
    "tags": []
   },
   "outputs": [
    {
     "data": {
      "text/plain": [
       "<matplotlib.legend.Legend at 0x7f1a248b2490>"
      ]
     },
     "execution_count": 15,
     "metadata": {},
     "output_type": "execute_result"
    },
    {
     "data": {
      "image/png": "[encoded data removed]",
      "text/plain": [
       "<Figure size 432x288 with 1 Axes>"
      ]
     },
     "metadata": {
      "needs_background": "light"
     },
     "output_type": "display_data"
    }
   ],
   "source": [
    "tenure_churn_No = df1[df1.Churn == 'No'].tenure\n",
    "tenure_churn_Yes = df1[df1.Churn == 'Yes'].tenure\n",
    "\n",
    "plt.xlabel(\"Tenure\")\n",
    "plt.ylabel(\"No. of Customer\")\n",
    "plt.title(\"Tenure vs Churn\")\n",
    "\n",
    "plt.hist([tenure_churn_Yes,tenure_churn_No],color=['red','green'],label=[\"Churn = Yes\",\"Churn = No\"])\n",
    "plt.legend()"
   ]
  },
  {
   "cell_type": "code",
   "execution_count": 16,
   "id": "be21038d",
   "metadata": {
    "execution": {
     "iopub.execute_input": "2022-02-25T07:03:11.308347Z",
     "iopub.status.busy": "2022-02-25T07:03:11.307611Z",
     "iopub.status.idle": "2022-02-25T07:03:11.310667Z",
     "shell.execute_reply": "2022-02-25T07:03:11.310103Z",
     "shell.execute_reply.started": "2022-02-25T06:55:37.555227Z"
    },
    "papermill": {
     "duration": 0.051249,
     "end_time": "2022-02-25T07:03:11.310822",
     "exception": false,
     "start_time": "2022-02-25T07:03:11.259573",
     "status": "completed"
    },
    "tags": []
   },
   "outputs": [],
   "source": [
    "def Print_Unique_val(df1):\n",
    "    for column in df1:\n",
    "        if df1[column].dtypes == 'object':\n",
    "            print(f'{column} : {df1[column].unique()}')"
   ]
  },
  {
   "cell_type": "code",
   "execution_count": 17,
   "id": "3ed2ebdb",
   "metadata": {
    "execution": {
     "iopub.execute_input": "2022-02-25T07:03:11.405685Z",
     "iopub.status.busy": "2022-02-25T07:03:11.404710Z",
     "iopub.status.idle": "2022-02-25T07:03:11.428082Z",
     "shell.execute_reply": "2022-02-25T07:03:11.427345Z",
     "shell.execute_reply.started": "2022-02-25T06:55:37.563073Z"
    },
    "papermill": {
     "duration": 0.07642,
     "end_time": "2022-02-25T07:03:11.428243",
     "exception": false,
     "start_time": "2022-02-25T07:03:11.351823",
     "status": "completed"
    },
    "tags": []
   },
   "outputs": [
    {
     "name": "stdout",
     "output_type": "stream",
     "text": [
      "gender : ['Female' 'Male']\n",
      "Partner : ['Yes' 'No']\n",
      "Dependents : ['No' 'Yes']\n",
      "PhoneService : ['No' 'Yes']\n",
      "MultipleLines : ['No phone service' 'No' 'Yes']\n",
      "InternetService : ['DSL' 'Fiber optic' 'No']\n",
      "OnlineSecurity : ['No' 'Yes' 'No internet service']\n",
      "OnlineBackup : ['Yes' 'No' 'No internet service']\n",
      "DeviceProtection : ['No' 'Yes' 'No internet service']\n",
      "TechSupport : ['No' 'Yes' 'No internet service']\n",
      "StreamingTV : ['No' 'Yes' 'No internet service']\n",
      "StreamingMovies : ['No' 'Yes' 'No internet service']\n",
      "Contract : ['Month-to-month' 'One year' 'Two year']\n",
      "PaperlessBilling : ['Yes' 'No']\n",
      "PaymentMethod : ['Electronic check' 'Mailed check' 'Bank transfer (automatic)'\n",
      " 'Credit card (automatic)']\n",
      "Churn : ['No' 'Yes']\n"
     ]
    }
   ],
   "source": [
    "Print_Unique_val(df1)"
   ]
  },
  {
   "cell_type": "code",
   "execution_count": 18,
   "id": "f7492a5a",
   "metadata": {
    "execution": {
     "iopub.execute_input": "2022-02-25T07:03:11.529087Z",
     "iopub.status.busy": "2022-02-25T07:03:11.528362Z",
     "iopub.status.idle": "2022-02-25T07:03:11.538243Z",
     "shell.execute_reply": "2022-02-25T07:03:11.537315Z",
     "shell.execute_reply.started": "2022-02-25T06:55:37.603497Z"
    },
    "papermill": {
     "duration": 0.065162,
     "end_time": "2022-02-25T07:03:11.538455",
     "exception": false,
     "start_time": "2022-02-25T07:03:11.473293",
     "status": "completed"
    },
    "tags": []
   },
   "outputs": [
    {
     "name": "stderr",
     "output_type": "stream",
     "text": [
      "/opt/conda/lib/python3.7/site-packages/pandas/core/frame.py:5244: SettingWithCopyWarning: \n",
      "A value is trying to be set on a copy of a slice from a DataFrame\n",
      "\n",
      "See the caveats in the documentation: https://pandas.pydata.org/pandas-docs/stable/user_guide/indexing.html#returning-a-view-versus-a-copy\n",
      "  method=method,\n"
     ]
    }
   ],
   "source": [
    "df1.replace(\"No internet service\",\"No\",inplace = True)"
   ]
  },
  {
   "cell_type": "code",
   "execution_count": 19,
   "id": "ef0eb29a",
   "metadata": {
    "execution": {
     "iopub.execute_input": "2022-02-25T07:03:11.635986Z",
     "iopub.status.busy": "2022-02-25T07:03:11.635274Z",
     "iopub.status.idle": "2022-02-25T07:03:11.648536Z",
     "shell.execute_reply": "2022-02-25T07:03:11.647893Z",
     "shell.execute_reply.started": "2022-02-25T06:55:37.619154Z"
    },
    "papermill": {
     "duration": 0.062543,
     "end_time": "2022-02-25T07:03:11.648689",
     "exception": false,
     "start_time": "2022-02-25T07:03:11.586146",
     "status": "completed"
    },
    "tags": []
   },
   "outputs": [],
   "source": [
    "df1.replace(\"No phone service\",\"No\",inplace = True)"
   ]
  },
  {
   "cell_type": "code",
   "execution_count": 20,
   "id": "4132b580",
   "metadata": {
    "execution": {
     "iopub.execute_input": "2022-02-25T07:03:11.741109Z",
     "iopub.status.busy": "2022-02-25T07:03:11.740341Z",
     "iopub.status.idle": "2022-02-25T07:03:11.761684Z",
     "shell.execute_reply": "2022-02-25T07:03:11.762336Z",
     "shell.execute_reply.started": "2022-02-25T06:55:37.642666Z"
    },
    "papermill": {
     "duration": 0.071564,
     "end_time": "2022-02-25T07:03:11.762535",
     "exception": false,
     "start_time": "2022-02-25T07:03:11.690971",
     "status": "completed"
    },
    "tags": []
   },
   "outputs": [
    {
     "name": "stdout",
     "output_type": "stream",
     "text": [
      "gender : ['Female' 'Male']\n",
      "Partner : ['Yes' 'No']\n",
      "Dependents : ['No' 'Yes']\n",
      "PhoneService : ['No' 'Yes']\n",
      "MultipleLines : ['No' 'Yes']\n",
      "InternetService : ['DSL' 'Fiber optic' 'No']\n",
      "OnlineSecurity : ['No' 'Yes']\n",
      "OnlineBackup : ['Yes' 'No']\n",
      "DeviceProtection : ['No' 'Yes']\n",
      "TechSupport : ['No' 'Yes']\n",
      "StreamingTV : ['No' 'Yes']\n",
      "StreamingMovies : ['No' 'Yes']\n",
      "Contract : ['Month-to-month' 'One year' 'Two year']\n",
      "PaperlessBilling : ['Yes' 'No']\n",
      "PaymentMethod : ['Electronic check' 'Mailed check' 'Bank transfer (automatic)'\n",
      " 'Credit card (automatic)']\n",
      "Churn : ['No' 'Yes']\n"
     ]
    }
   ],
   "source": [
    "Print_Unique_val(df1)"
   ]
  },
  {
   "cell_type": "code",
   "execution_count": 21,
   "id": "076f94a8",
   "metadata": {
    "execution": {
     "iopub.execute_input": "2022-02-25T07:03:11.857934Z",
     "iopub.status.busy": "2022-02-25T07:03:11.856782Z",
     "iopub.status.idle": "2022-02-25T07:03:11.924452Z",
     "shell.execute_reply": "2022-02-25T07:03:11.923604Z",
     "shell.execute_reply.started": "2022-02-25T06:55:37.667138Z"
    },
    "papermill": {
     "duration": 0.116615,
     "end_time": "2022-02-25T07:03:11.924631",
     "exception": false,
     "start_time": "2022-02-25T07:03:11.808016",
     "status": "completed"
    },
    "tags": []
   },
   "outputs": [],
   "source": [
    "df1.replace({'Yes':1,'No':0},inplace=True)"
   ]
  },
  {
   "cell_type": "code",
   "execution_count": 22,
   "id": "cb71c12f",
   "metadata": {
    "execution": {
     "iopub.execute_input": "2022-02-25T07:03:12.021905Z",
     "iopub.status.busy": "2022-02-25T07:03:12.021049Z",
     "iopub.status.idle": "2022-02-25T07:03:12.030010Z",
     "shell.execute_reply": "2022-02-25T07:03:12.029361Z",
     "shell.execute_reply.started": "2022-02-25T06:55:37.738173Z"
    },
    "papermill": {
     "duration": 0.060464,
     "end_time": "2022-02-25T07:03:12.030167",
     "exception": false,
     "start_time": "2022-02-25T07:03:11.969703",
     "status": "completed"
    },
    "tags": []
   },
   "outputs": [
    {
     "name": "stderr",
     "output_type": "stream",
     "text": [
      "/opt/conda/lib/python3.7/site-packages/pandas/core/generic.py:6619: SettingWithCopyWarning: \n",
      "A value is trying to be set on a copy of a slice from a DataFrame\n",
      "\n",
      "See the caveats in the documentation: https://pandas.pydata.org/pandas-docs/stable/user_guide/indexing.html#returning-a-view-versus-a-copy\n",
      "  return self._update_inplace(result)\n"
     ]
    }
   ],
   "source": [
    "df1.gender.replace({'Male':1,'Female':0},inplace= True)"
   ]
  },
  {
   "cell_type": "code",
   "execution_count": 23,
   "id": "4c78a980",
   "metadata": {
    "execution": {
     "iopub.execute_input": "2022-02-25T07:03:12.123676Z",
     "iopub.status.busy": "2022-02-25T07:03:12.122870Z",
     "iopub.status.idle": "2022-02-25T07:03:12.140132Z",
     "shell.execute_reply": "2022-02-25T07:03:12.140814Z",
     "shell.execute_reply.started": "2022-02-25T06:55:37.751671Z"
    },
    "papermill": {
     "duration": 0.066611,
     "end_time": "2022-02-25T07:03:12.141111",
     "exception": false,
     "start_time": "2022-02-25T07:03:12.074500",
     "status": "completed"
    },
    "tags": []
   },
   "outputs": [
    {
     "name": "stdout",
     "output_type": "stream",
     "text": [
      "gender : [0 1]\n",
      "SeniorCitizen : [0 1]\n",
      "Partner : [1 0]\n",
      "Dependents : [0 1]\n",
      "tenure : [ 1 34  2 45  8 22 10 28 62 13 16 58 49 25 69 52 71 21 12 30 47 72 17 27\n",
      "  5 46 11 70 63 43 15 60 18 66  9  3 31 50 64 56  7 42 35 48 29 65 38 68\n",
      " 32 55 37 36 41  6  4 33 67 23 57 61 14 20 53 40 59 24 44 19 54 51 26 39]\n",
      "PhoneService : [0 1]\n",
      "MultipleLines : [0 1]\n",
      "InternetService : ['DSL' 'Fiber optic' 0]\n",
      "OnlineSecurity : [0 1]\n",
      "OnlineBackup : [1 0]\n",
      "DeviceProtection : [0 1]\n",
      "TechSupport : [0 1]\n",
      "StreamingTV : [0 1]\n",
      "StreamingMovies : [0 1]\n",
      "Contract : ['Month-to-month' 'One year' 'Two year']\n",
      "PaperlessBilling : [1 0]\n",
      "PaymentMethod : ['Electronic check' 'Mailed check' 'Bank transfer (automatic)'\n",
      " 'Credit card (automatic)']\n",
      "MonthlyCharges : [29.85 56.95 53.85 ... 63.1  44.2  78.7 ]\n",
      "TotalCharges : [  29.85 1889.5   108.15 ...  346.45  306.6  6844.5 ]\n",
      "Churn : [0 1]\n"
     ]
    }
   ],
   "source": [
    "for col in df1:\n",
    "    print(f'{col} : {df1[col].unique()}')"
   ]
  },
  {
   "cell_type": "code",
   "execution_count": 24,
   "id": "76b1dbb9",
   "metadata": {
    "execution": {
     "iopub.execute_input": "2022-02-25T07:03:12.238373Z",
     "iopub.status.busy": "2022-02-25T07:03:12.237684Z",
     "iopub.status.idle": "2022-02-25T07:03:12.249926Z",
     "shell.execute_reply": "2022-02-25T07:03:12.250488Z",
     "shell.execute_reply.started": "2022-02-25T06:55:37.780994Z"
    },
    "papermill": {
     "duration": 0.064883,
     "end_time": "2022-02-25T07:03:12.250680",
     "exception": false,
     "start_time": "2022-02-25T07:03:12.185797",
     "status": "completed"
    },
    "tags": []
   },
   "outputs": [],
   "source": [
    "df2 = pd.get_dummies(data = df1,columns=['InternetService','Contract','PaymentMethod'])"
   ]
  },
  {
   "cell_type": "code",
   "execution_count": 25,
   "id": "f7d258b2",
   "metadata": {
    "execution": {
     "iopub.execute_input": "2022-02-25T07:03:12.347866Z",
     "iopub.status.busy": "2022-02-25T07:03:12.347030Z",
     "iopub.status.idle": "2022-02-25T07:03:12.372765Z",
     "shell.execute_reply": "2022-02-25T07:03:12.372187Z",
     "shell.execute_reply.started": "2022-02-25T06:55:37.797625Z"
    },
    "papermill": {
     "duration": 0.076942,
     "end_time": "2022-02-25T07:03:12.372914",
     "exception": false,
     "start_time": "2022-02-25T07:03:12.295972",
     "status": "completed"
    },
    "tags": []
   },
   "outputs": [
    {
     "name": "stdout",
     "output_type": "stream",
     "text": [
      "gender : [0 1]\n",
      "SeniorCitizen : [0 1]\n",
      "Partner : [1 0]\n",
      "Dependents : [0 1]\n",
      "tenure : [ 1 34  2 45  8 22 10 28 62 13 16 58 49 25 69 52 71 21 12 30 47 72 17 27\n",
      "  5 46 11 70 63 43 15 60 18 66  9  3 31 50 64 56  7 42 35 48 29 65 38 68\n",
      " 32 55 37 36 41  6  4 33 67 23 57 61 14 20 53 40 59 24 44 19 54 51 26 39]\n",
      "PhoneService : [0 1]\n",
      "MultipleLines : [0 1]\n",
      "OnlineSecurity : [0 1]\n",
      "OnlineBackup : [1 0]\n",
      "DeviceProtection : [0 1]\n",
      "TechSupport : [0 1]\n",
      "StreamingTV : [0 1]\n",
      "StreamingMovies : [0 1]\n",
      "PaperlessBilling : [1 0]\n",
      "MonthlyCharges : [29.85 56.95 53.85 ... 63.1  44.2  78.7 ]\n",
      "TotalCharges : [  29.85 1889.5   108.15 ...  346.45  306.6  6844.5 ]\n",
      "Churn : [0 1]\n",
      "InternetService_0 : [0 1]\n",
      "InternetService_DSL : [1 0]\n",
      "InternetService_Fiber optic : [0 1]\n",
      "Contract_Month-to-month : [1 0]\n",
      "Contract_One year : [0 1]\n",
      "Contract_Two year : [0 1]\n",
      "PaymentMethod_Bank transfer (automatic) : [0 1]\n",
      "PaymentMethod_Credit card (automatic) : [0 1]\n",
      "PaymentMethod_Electronic check : [1 0]\n",
      "PaymentMethod_Mailed check : [0 1]\n"
     ]
    }
   ],
   "source": [
    "for col in df2:\n",
    "    print(f'{col} : {df2[col].unique()}')"
   ]
  },
  {
   "cell_type": "code",
   "execution_count": 26,
   "id": "3cd5d3b9",
   "metadata": {
    "execution": {
     "iopub.execute_input": "2022-02-25T07:03:12.476156Z",
     "iopub.status.busy": "2022-02-25T07:03:12.474881Z",
     "iopub.status.idle": "2022-02-25T07:03:12.479162Z",
     "shell.execute_reply": "2022-02-25T07:03:12.479677Z",
     "shell.execute_reply.started": "2022-02-25T06:55:37.827893Z"
    },
    "papermill": {
     "duration": 0.057227,
     "end_time": "2022-02-25T07:03:12.479853",
     "exception": false,
     "start_time": "2022-02-25T07:03:12.422626",
     "status": "completed"
    },
    "tags": []
   },
   "outputs": [
    {
     "data": {
      "text/plain": [
       "gender                                       int64\n",
       "SeniorCitizen                                int64\n",
       "Partner                                      int64\n",
       "Dependents                                   int64\n",
       "tenure                                       int64\n",
       "PhoneService                                 int64\n",
       "MultipleLines                                int64\n",
       "OnlineSecurity                               int64\n",
       "OnlineBackup                                 int64\n",
       "DeviceProtection                             int64\n",
       "TechSupport                                  int64\n",
       "StreamingTV                                  int64\n",
       "StreamingMovies                              int64\n",
       "PaperlessBilling                             int64\n",
       "MonthlyCharges                             float64\n",
       "TotalCharges                               float64\n",
       "Churn                                        int64\n",
       "InternetService_0                            uint8\n",
       "InternetService_DSL                          uint8\n",
       "InternetService_Fiber optic                  uint8\n",
       "Contract_Month-to-month                      uint8\n",
       "Contract_One year                            uint8\n",
       "Contract_Two year                            uint8\n",
       "PaymentMethod_Bank transfer (automatic)      uint8\n",
       "PaymentMethod_Credit card (automatic)        uint8\n",
       "PaymentMethod_Electronic check               uint8\n",
       "PaymentMethod_Mailed check                   uint8\n",
       "dtype: object"
      ]
     },
     "execution_count": 26,
     "metadata": {},
     "output_type": "execute_result"
    }
   ],
   "source": [
    "df2.dtypes"
   ]
  },
  {
   "cell_type": "code",
   "execution_count": 27,
   "id": "65dadce0",
   "metadata": {
    "execution": {
     "iopub.execute_input": "2022-02-25T07:03:12.576014Z",
     "iopub.status.busy": "2022-02-25T07:03:12.575024Z",
     "iopub.status.idle": "2022-02-25T07:03:12.594347Z",
     "shell.execute_reply": "2022-02-25T07:03:12.593717Z",
     "shell.execute_reply.started": "2022-02-25T06:55:37.837072Z"
    },
    "papermill": {
     "duration": 0.070299,
     "end_time": "2022-02-25T07:03:12.594523",
     "exception": false,
     "start_time": "2022-02-25T07:03:12.524224",
     "status": "completed"
    },
    "tags": []
   },
   "outputs": [
    {
     "data": {
      "text/html": [
       "<div>\n",
       "<style scoped>\n",
       "    .dataframe tbody tr th:only-of-type {\n",
       "        vertical-align: middle;\n",
       "    }\n",
       "\n",
       "    .dataframe tbody tr th {\n",
       "        vertical-align: top;\n",
       "    }\n",
       "\n",
       "    .dataframe thead th {\n",
       "        text-align: right;\n",
       "    }\n",
       "</style>\n",
       "<table border=\"1\" class=\"dataframe\">\n",
       "  <thead>\n",
       "    <tr style=\"text-align: right;\">\n",
       "      <th></th>\n",
       "      <th>gender</th>\n",
       "      <th>SeniorCitizen</th>\n",
       "      <th>Partner</th>\n",
       "      <th>Dependents</th>\n",
       "      <th>tenure</th>\n",
       "      <th>PhoneService</th>\n",
       "      <th>MultipleLines</th>\n",
       "      <th>OnlineSecurity</th>\n",
       "      <th>OnlineBackup</th>\n",
       "      <th>DeviceProtection</th>\n",
       "      <th>...</th>\n",
       "      <th>InternetService_0</th>\n",
       "      <th>InternetService_DSL</th>\n",
       "      <th>InternetService_Fiber optic</th>\n",
       "      <th>Contract_Month-to-month</th>\n",
       "      <th>Contract_One year</th>\n",
       "      <th>Contract_Two year</th>\n",
       "      <th>PaymentMethod_Bank transfer (automatic)</th>\n",
       "      <th>PaymentMethod_Credit card (automatic)</th>\n",
       "      <th>PaymentMethod_Electronic check</th>\n",
       "      <th>PaymentMethod_Mailed check</th>\n",
       "    </tr>\n",
       "  </thead>\n",
       "  <tbody>\n",
       "    <tr>\n",
       "      <th>6094</th>\n",
       "      <td>1</td>\n",
       "      <td>0</td>\n",
       "      <td>0</td>\n",
       "      <td>0</td>\n",
       "      <td>57</td>\n",
       "      <td>1</td>\n",
       "      <td>0</td>\n",
       "      <td>0</td>\n",
       "      <td>0</td>\n",
       "      <td>0</td>\n",
       "      <td>...</td>\n",
       "      <td>1</td>\n",
       "      <td>0</td>\n",
       "      <td>0</td>\n",
       "      <td>0</td>\n",
       "      <td>0</td>\n",
       "      <td>1</td>\n",
       "      <td>0</td>\n",
       "      <td>1</td>\n",
       "      <td>0</td>\n",
       "      <td>0</td>\n",
       "    </tr>\n",
       "    <tr>\n",
       "      <th>5262</th>\n",
       "      <td>0</td>\n",
       "      <td>0</td>\n",
       "      <td>0</td>\n",
       "      <td>0</td>\n",
       "      <td>59</td>\n",
       "      <td>1</td>\n",
       "      <td>1</td>\n",
       "      <td>1</td>\n",
       "      <td>0</td>\n",
       "      <td>0</td>\n",
       "      <td>...</td>\n",
       "      <td>0</td>\n",
       "      <td>1</td>\n",
       "      <td>0</td>\n",
       "      <td>0</td>\n",
       "      <td>1</td>\n",
       "      <td>0</td>\n",
       "      <td>1</td>\n",
       "      <td>0</td>\n",
       "      <td>0</td>\n",
       "      <td>0</td>\n",
       "    </tr>\n",
       "    <tr>\n",
       "      <th>1604</th>\n",
       "      <td>1</td>\n",
       "      <td>0</td>\n",
       "      <td>1</td>\n",
       "      <td>1</td>\n",
       "      <td>69</td>\n",
       "      <td>1</td>\n",
       "      <td>1</td>\n",
       "      <td>0</td>\n",
       "      <td>1</td>\n",
       "      <td>1</td>\n",
       "      <td>...</td>\n",
       "      <td>0</td>\n",
       "      <td>0</td>\n",
       "      <td>1</td>\n",
       "      <td>0</td>\n",
       "      <td>1</td>\n",
       "      <td>0</td>\n",
       "      <td>0</td>\n",
       "      <td>1</td>\n",
       "      <td>0</td>\n",
       "      <td>0</td>\n",
       "    </tr>\n",
       "    <tr>\n",
       "      <th>1404</th>\n",
       "      <td>0</td>\n",
       "      <td>0</td>\n",
       "      <td>0</td>\n",
       "      <td>0</td>\n",
       "      <td>35</td>\n",
       "      <td>1</td>\n",
       "      <td>1</td>\n",
       "      <td>0</td>\n",
       "      <td>0</td>\n",
       "      <td>0</td>\n",
       "      <td>...</td>\n",
       "      <td>1</td>\n",
       "      <td>0</td>\n",
       "      <td>0</td>\n",
       "      <td>0</td>\n",
       "      <td>0</td>\n",
       "      <td>1</td>\n",
       "      <td>1</td>\n",
       "      <td>0</td>\n",
       "      <td>0</td>\n",
       "      <td>0</td>\n",
       "    </tr>\n",
       "    <tr>\n",
       "      <th>5097</th>\n",
       "      <td>1</td>\n",
       "      <td>0</td>\n",
       "      <td>0</td>\n",
       "      <td>0</td>\n",
       "      <td>35</td>\n",
       "      <td>1</td>\n",
       "      <td>1</td>\n",
       "      <td>1</td>\n",
       "      <td>1</td>\n",
       "      <td>1</td>\n",
       "      <td>...</td>\n",
       "      <td>0</td>\n",
       "      <td>0</td>\n",
       "      <td>1</td>\n",
       "      <td>1</td>\n",
       "      <td>0</td>\n",
       "      <td>0</td>\n",
       "      <td>0</td>\n",
       "      <td>0</td>\n",
       "      <td>0</td>\n",
       "      <td>1</td>\n",
       "    </tr>\n",
       "  </tbody>\n",
       "</table>\n",
       "<p>5 rows × 27 columns</p>\n",
       "</div>"
      ],
      "text/plain": [
       "      gender  SeniorCitizen  Partner  Dependents  tenure  PhoneService  \\\n",
       "6094       1              0        0           0      57             1   \n",
       "5262       0              0        0           0      59             1   \n",
       "1604       1              0        1           1      69             1   \n",
       "1404       0              0        0           0      35             1   \n",
       "5097       1              0        0           0      35             1   \n",
       "\n",
       "      MultipleLines  OnlineSecurity  OnlineBackup  DeviceProtection  ...  \\\n",
       "6094              0               0             0                 0  ...   \n",
       "5262              1               1             0                 0  ...   \n",
       "1604              1               0             1                 1  ...   \n",
       "1404              1               0             0                 0  ...   \n",
       "5097              1               1             1                 1  ...   \n",
       "\n",
       "      InternetService_0  InternetService_DSL  InternetService_Fiber optic  \\\n",
       "6094                  1                    0                            0   \n",
       "5262                  0                    1                            0   \n",
       "1604                  0                    0                            1   \n",
       "1404                  1                    0                            0   \n",
       "5097                  0                    0                            1   \n",
       "\n",
       "      Contract_Month-to-month  Contract_One year  Contract_Two year  \\\n",
       "6094                        0                  0                  1   \n",
       "5262                        0                  1                  0   \n",
       "1604                        0                  1                  0   \n",
       "1404                        0                  0                  1   \n",
       "5097                        1                  0                  0   \n",
       "\n",
       "      PaymentMethod_Bank transfer (automatic)  \\\n",
       "6094                                        0   \n",
       "5262                                        1   \n",
       "1604                                        0   \n",
       "1404                                        1   \n",
       "5097                                        0   \n",
       "\n",
       "      PaymentMethod_Credit card (automatic)  PaymentMethod_Electronic check  \\\n",
       "6094                                      1                               0   \n",
       "5262                                      0                               0   \n",
       "1604                                      1                               0   \n",
       "1404                                      0                               0   \n",
       "5097                                      0                               0   \n",
       "\n",
       "      PaymentMethod_Mailed check  \n",
       "6094                           0  \n",
       "5262                           0  \n",
       "1604                           0  \n",
       "1404                           0  \n",
       "5097                           1  \n",
       "\n",
       "[5 rows x 27 columns]"
      ]
     },
     "execution_count": 27,
     "metadata": {},
     "output_type": "execute_result"
    }
   ],
   "source": [
    "df2.sample(5)"
   ]
  },
  {
   "cell_type": "code",
   "execution_count": 28,
   "id": "962e2ebd",
   "metadata": {
    "execution": {
     "iopub.execute_input": "2022-02-25T07:03:12.696615Z",
     "iopub.status.busy": "2022-02-25T07:03:12.694320Z",
     "iopub.status.idle": "2022-02-25T07:03:12.701153Z",
     "shell.execute_reply": "2022-02-25T07:03:12.700451Z",
     "shell.execute_reply.started": "2022-02-25T06:55:37.863362Z"
    },
    "papermill": {
     "duration": 0.059959,
     "end_time": "2022-02-25T07:03:12.701301",
     "exception": false,
     "start_time": "2022-02-25T07:03:12.641342",
     "status": "completed"
    },
    "tags": []
   },
   "outputs": [],
   "source": [
    "columns_to_scale = ['tenure','MonthlyCharges','TotalCharges']\n",
    "\n",
    "scale = MinMaxScaler()\n",
    "df2[columns_to_scale] = scale.fit_transform(df2[columns_to_scale])"
   ]
  },
  {
   "cell_type": "code",
   "execution_count": 29,
   "id": "7e40e1ea",
   "metadata": {
    "execution": {
     "iopub.execute_input": "2022-02-25T07:03:12.811045Z",
     "iopub.status.busy": "2022-02-25T07:03:12.810332Z",
     "iopub.status.idle": "2022-02-25T07:03:12.813813Z",
     "shell.execute_reply": "2022-02-25T07:03:12.814267Z",
     "shell.execute_reply.started": "2022-02-25T06:55:37.874796Z"
    },
    "papermill": {
     "duration": 0.068795,
     "end_time": "2022-02-25T07:03:12.814492",
     "exception": false,
     "start_time": "2022-02-25T07:03:12.745697",
     "status": "completed"
    },
    "tags": []
   },
   "outputs": [
    {
     "data": {
      "text/html": [
       "<div>\n",
       "<style scoped>\n",
       "    .dataframe tbody tr th:only-of-type {\n",
       "        vertical-align: middle;\n",
       "    }\n",
       "\n",
       "    .dataframe tbody tr th {\n",
       "        vertical-align: top;\n",
       "    }\n",
       "\n",
       "    .dataframe thead th {\n",
       "        text-align: right;\n",
       "    }\n",
       "</style>\n",
       "<table border=\"1\" class=\"dataframe\">\n",
       "  <thead>\n",
       "    <tr style=\"text-align: right;\">\n",
       "      <th></th>\n",
       "      <th>gender</th>\n",
       "      <th>SeniorCitizen</th>\n",
       "      <th>Partner</th>\n",
       "      <th>Dependents</th>\n",
       "      <th>tenure</th>\n",
       "      <th>PhoneService</th>\n",
       "      <th>MultipleLines</th>\n",
       "      <th>OnlineSecurity</th>\n",
       "      <th>OnlineBackup</th>\n",
       "      <th>DeviceProtection</th>\n",
       "      <th>...</th>\n",
       "      <th>InternetService_0</th>\n",
       "      <th>InternetService_DSL</th>\n",
       "      <th>InternetService_Fiber optic</th>\n",
       "      <th>Contract_Month-to-month</th>\n",
       "      <th>Contract_One year</th>\n",
       "      <th>Contract_Two year</th>\n",
       "      <th>PaymentMethod_Bank transfer (automatic)</th>\n",
       "      <th>PaymentMethod_Credit card (automatic)</th>\n",
       "      <th>PaymentMethod_Electronic check</th>\n",
       "      <th>PaymentMethod_Mailed check</th>\n",
       "    </tr>\n",
       "  </thead>\n",
       "  <tbody>\n",
       "    <tr>\n",
       "      <th>4845</th>\n",
       "      <td>1</td>\n",
       "      <td>0</td>\n",
       "      <td>1</td>\n",
       "      <td>1</td>\n",
       "      <td>0.267606</td>\n",
       "      <td>0</td>\n",
       "      <td>0</td>\n",
       "      <td>1</td>\n",
       "      <td>0</td>\n",
       "      <td>1</td>\n",
       "      <td>...</td>\n",
       "      <td>0</td>\n",
       "      <td>1</td>\n",
       "      <td>0</td>\n",
       "      <td>0</td>\n",
       "      <td>0</td>\n",
       "      <td>1</td>\n",
       "      <td>0</td>\n",
       "      <td>1</td>\n",
       "      <td>0</td>\n",
       "      <td>0</td>\n",
       "    </tr>\n",
       "    <tr>\n",
       "      <th>3701</th>\n",
       "      <td>0</td>\n",
       "      <td>0</td>\n",
       "      <td>1</td>\n",
       "      <td>1</td>\n",
       "      <td>0.366197</td>\n",
       "      <td>1</td>\n",
       "      <td>1</td>\n",
       "      <td>0</td>\n",
       "      <td>0</td>\n",
       "      <td>0</td>\n",
       "      <td>...</td>\n",
       "      <td>1</td>\n",
       "      <td>0</td>\n",
       "      <td>0</td>\n",
       "      <td>0</td>\n",
       "      <td>0</td>\n",
       "      <td>1</td>\n",
       "      <td>0</td>\n",
       "      <td>0</td>\n",
       "      <td>1</td>\n",
       "      <td>0</td>\n",
       "    </tr>\n",
       "    <tr>\n",
       "      <th>6521</th>\n",
       "      <td>0</td>\n",
       "      <td>0</td>\n",
       "      <td>1</td>\n",
       "      <td>1</td>\n",
       "      <td>0.239437</td>\n",
       "      <td>1</td>\n",
       "      <td>1</td>\n",
       "      <td>0</td>\n",
       "      <td>0</td>\n",
       "      <td>0</td>\n",
       "      <td>...</td>\n",
       "      <td>1</td>\n",
       "      <td>0</td>\n",
       "      <td>0</td>\n",
       "      <td>0</td>\n",
       "      <td>0</td>\n",
       "      <td>1</td>\n",
       "      <td>0</td>\n",
       "      <td>0</td>\n",
       "      <td>0</td>\n",
       "      <td>1</td>\n",
       "    </tr>\n",
       "  </tbody>\n",
       "</table>\n",
       "<p>3 rows × 27 columns</p>\n",
       "</div>"
      ],
      "text/plain": [
       "      gender  SeniorCitizen  Partner  Dependents    tenure  PhoneService  \\\n",
       "4845       1              0        1           1  0.267606             0   \n",
       "3701       0              0        1           1  0.366197             1   \n",
       "6521       0              0        1           1  0.239437             1   \n",
       "\n",
       "      MultipleLines  OnlineSecurity  OnlineBackup  DeviceProtection  ...  \\\n",
       "4845              0               1             0                 1  ...   \n",
       "3701              1               0             0                 0  ...   \n",
       "6521              1               0             0                 0  ...   \n",
       "\n",
       "      InternetService_0  InternetService_DSL  InternetService_Fiber optic  \\\n",
       "4845                  0                    1                            0   \n",
       "3701                  1                    0                            0   \n",
       "6521                  1                    0                            0   \n",
       "\n",
       "      Contract_Month-to-month  Contract_One year  Contract_Two year  \\\n",
       "4845                        0                  0                  1   \n",
       "3701                        0                  0                  1   \n",
       "6521                        0                  0                  1   \n",
       "\n",
       "      PaymentMethod_Bank transfer (automatic)  \\\n",
       "4845                                        0   \n",
       "3701                                        0   \n",
       "6521                                        0   \n",
       "\n",
       "      PaymentMethod_Credit card (automatic)  PaymentMethod_Electronic check  \\\n",
       "4845                                      1                               0   \n",
       "3701                                      0                               1   \n",
       "6521                                      0                               0   \n",
       "\n",
       "      PaymentMethod_Mailed check  \n",
       "4845                           0  \n",
       "3701                           0  \n",
       "6521                           1  \n",
       "\n",
       "[3 rows x 27 columns]"
      ]
     },
     "execution_count": 29,
     "metadata": {},
     "output_type": "execute_result"
    }
   ],
   "source": [
    "df2.sample(3)"
   ]
  },
  {
   "cell_type": "markdown",
   "id": "256692c5",
   "metadata": {
    "papermill": {
     "duration": 0.045641,
     "end_time": "2022-02-25T07:03:12.906153",
     "exception": false,
     "start_time": "2022-02-25T07:03:12.860512",
     "status": "completed"
    },
    "tags": []
   },
   "source": [
    "Model Training"
   ]
  },
  {
   "cell_type": "code",
   "execution_count": 30,
   "id": "79bd0b0e",
   "metadata": {
    "execution": {
     "iopub.execute_input": "2022-02-25T07:03:13.003976Z",
     "iopub.status.busy": "2022-02-25T07:03:13.003180Z",
     "iopub.status.idle": "2022-02-25T07:03:13.005756Z",
     "shell.execute_reply": "2022-02-25T07:03:13.005062Z",
     "shell.execute_reply.started": "2022-02-25T06:55:37.906966Z"
    },
    "papermill": {
     "duration": 0.053695,
     "end_time": "2022-02-25T07:03:13.005902",
     "exception": false,
     "start_time": "2022-02-25T07:03:12.952207",
     "status": "completed"
    },
    "tags": []
   },
   "outputs": [],
   "source": [
    "x = df2.drop(['Churn'],axis = 'columns')\n",
    "y = df2['Churn']"
   ]
  },
  {
   "cell_type": "code",
   "execution_count": 31,
   "id": "5744975a",
   "metadata": {
    "execution": {
     "iopub.execute_input": "2022-02-25T07:03:13.102688Z",
     "iopub.status.busy": "2022-02-25T07:03:13.101881Z",
     "iopub.status.idle": "2022-02-25T07:03:13.103386Z",
     "shell.execute_reply": "2022-02-25T07:03:13.104105Z",
     "shell.execute_reply.started": "2022-02-25T06:55:37.915476Z"
    },
    "papermill": {
     "duration": 0.053972,
     "end_time": "2022-02-25T07:03:13.104308",
     "exception": false,
     "start_time": "2022-02-25T07:03:13.050336",
     "status": "completed"
    },
    "tags": []
   },
   "outputs": [],
   "source": [
    "x_train,x_test,y_train,y_test = train_test_split(x,y,test_size = 0.2)"
   ]
  },
  {
   "cell_type": "code",
   "execution_count": null,
   "id": "adbd7817",
   "metadata": {
    "papermill": {
     "duration": 0.046966,
     "end_time": "2022-02-25T07:03:13.200584",
     "exception": false,
     "start_time": "2022-02-25T07:03:13.153618",
     "status": "completed"
    },
    "tags": []
   },
   "outputs": [],
   "source": []
  },
  {
   "cell_type": "code",
   "execution_count": 32,
   "id": "1a5cd83c",
   "metadata": {
    "execution": {
     "iopub.execute_input": "2022-02-25T07:03:13.295504Z",
     "iopub.status.busy": "2022-02-25T07:03:13.294840Z",
     "iopub.status.idle": "2022-02-25T07:03:47.930663Z",
     "shell.execute_reply": "2022-02-25T07:03:47.930073Z",
     "shell.execute_reply.started": "2022-02-25T06:55:37.933437Z"
    },
    "papermill": {
     "duration": 34.684572,
     "end_time": "2022-02-25T07:03:47.930829",
     "exception": false,
     "start_time": "2022-02-25T07:03:13.246257",
     "status": "completed"
    },
    "tags": []
   },
   "outputs": [
    {
     "name": "stderr",
     "output_type": "stream",
     "text": [
      "\n",
      "User settings:\n",
      "\n",
      "   KMP_AFFINITY=granularity=fine,verbose,compact,1,0\n",
      "   KMP_BLOCKTIME=0\n",
      "   KMP_DUPLICATE_LIB_OK=True\n",
      "   KMP_INIT_AT_FORK=FALSE\n",
      "   KMP_SETTINGS=1\n",
      "   KMP_WARNINGS=0\n",
      "\n",
      "Effective settings:\n",
      "\n",
      "   KMP_ABORT_DELAY=0\n",
      "   KMP_ADAPTIVE_LOCK_PROPS='1,1024'\n",
      "   KMP_ALIGN_ALLOC=64\n",
      "   KMP_ALL_THREADPRIVATE=128\n",
      "   KMP_ATOMIC_MODE=2\n",
      "   KMP_BLOCKTIME=0\n",
      "   KMP_CPUINFO_FILE: value is not defined\n",
      "   KMP_DETERMINISTIC_REDUCTION=false\n",
      "   KMP_DEVICE_THREAD_LIMIT=2147483647\n",
      "   KMP_DISP_NUM_BUFFERS=7\n",
      "   KMP_DUPLICATE_LIB_OK=true\n",
      "   KMP_ENABLE_TASK_THROTTLING=true\n",
      "   KMP_FORCE_REDUCTION: value is not defined\n",
      "   KMP_FOREIGN_THREADS_THREADPRIVATE=true\n",
      "   KMP_FORKJOIN_BARRIER='2,2'\n",
      "   KMP_FORKJOIN_BARRIER_PATTERN='hyper,hyper'\n",
      "   KMP_GTID_MODE=3\n",
      "   KMP_HANDLE_SIGNALS=false\n",
      "   KMP_HOT_TEAMS_MAX_LEVEL=1\n",
      "   KMP_HOT_TEAMS_MODE=0\n",
      "   KMP_INIT_AT_FORK=true\n",
      "   KMP_LIBRARY=throughput\n",
      "   KMP_LOCK_KIND=queuing\n",
      "   KMP_MALLOC_POOL_INCR=1M\n",
      "   KMP_NUM_LOCKS_IN_BLOCK=1\n",
      "   KMP_PLAIN_BARRIER='2,2'\n",
      "   KMP_PLAIN_BARRIER_PATTERN='hyper,hyper'\n",
      "   KMP_REDUCTION_BARRIER='1,1'\n",
      "   KMP_REDUCTION_BARRIER_PATTERN='hyper,hyper'\n",
      "   KMP_SCHEDULE='static,balanced;guided,iterative'\n",
      "   KMP_SETTINGS=true\n",
      "   KMP_SPIN_BACKOFF_PARAMS='4096,100'\n",
      "   KMP_STACKOFFSET=64\n",
      "   KMP_STACKPAD=0\n",
      "   KMP_STACKSIZE=8M\n",
      "   KMP_STORAGE_MAP=false\n",
      "   KMP_TASKING=2\n",
      "   KMP_TASKLOOP_MIN_TASKS=0\n",
      "   KMP_TASK_STEALING_CONSTRAINT=1\n",
      "   KMP_TEAMS_THREAD_LIMIT=4\n",
      "   KMP_TOPOLOGY_METHOD=all\n",
      "   KMP_USE_YIELD=1\n",
      "   KMP_VERSION=false\n",
      "   KMP_WARNINGS=false\n",
      "   OMP_AFFINITY_FORMAT='OMP: pid %P tid %i thread %n bound to OS proc set {%A}'\n",
      "   OMP_ALLOCATOR=omp_default_mem_alloc\n",
      "   OMP_CANCELLATION=false\n",
      "   OMP_DEFAULT_DEVICE=0\n",
      "   OMP_DISPLAY_AFFINITY=false\n",
      "   OMP_DISPLAY_ENV=false\n",
      "   OMP_DYNAMIC=false\n",
      "   OMP_MAX_ACTIVE_LEVELS=1\n",
      "   OMP_MAX_TASK_PRIORITY=0\n",
      "   OMP_NESTED: deprecated; max-active-levels-var=1\n",
      "   OMP_NUM_THREADS: value is not defined\n",
      "   OMP_PLACES: value is not defined\n",
      "   OMP_PROC_BIND='intel'\n",
      "   OMP_SCHEDULE='static'\n",
      "   OMP_STACKSIZE=8M\n",
      "   OMP_TARGET_OFFLOAD=DEFAULT\n",
      "   OMP_THREAD_LIMIT=2147483647\n",
      "   OMP_WAIT_POLICY=PASSIVE\n",
      "   KMP_AFFINITY='verbose,warnings,respect,granularity=fine,compact,1,0'\n",
      "\n",
      "2022-02-25 07:03:20.070885: I tensorflow/core/common_runtime/process_util.cc:146] Creating new thread pool with default inter op setting: 2. Tune using inter_op_parallelism_threads for best performance.\n",
      "2022-02-25 07:03:20.269251: I tensorflow/compiler/mlir/mlir_graph_optimization_pass.cc:185] None of the MLIR Optimization Passes are enabled (registered 2)\n"
     ]
    },
    {
     "name": "stdout",
     "output_type": "stream",
     "text": [
      "Epoch 1/75\n",
      "176/176 [==============================] - 1s 2ms/step - loss: 0.5395 - accuracy: 0.7282\n",
      "Epoch 2/75\n",
      "176/176 [==============================] - 0s 2ms/step - loss: 0.4435 - accuracy: 0.7897\n",
      "Epoch 3/75\n",
      "176/176 [==============================] - 0s 2ms/step - loss: 0.4284 - accuracy: 0.7957\n",
      "Epoch 4/75\n",
      "176/176 [==============================] - 0s 2ms/step - loss: 0.4229 - accuracy: 0.7991\n",
      "Epoch 5/75\n",
      "176/176 [==============================] - 0s 2ms/step - loss: 0.4203 - accuracy: 0.7988\n",
      "Epoch 6/75\n",
      "176/176 [==============================] - 0s 2ms/step - loss: 0.4180 - accuracy: 0.7979\n",
      "Epoch 7/75\n",
      "176/176 [==============================] - 0s 2ms/step - loss: 0.4168 - accuracy: 0.8007\n",
      "Epoch 8/75\n",
      "176/176 [==============================] - 0s 2ms/step - loss: 0.4154 - accuracy: 0.8020\n",
      "Epoch 9/75\n",
      "176/176 [==============================] - 0s 2ms/step - loss: 0.4143 - accuracy: 0.8020\n",
      "Epoch 10/75\n",
      "176/176 [==============================] - 0s 2ms/step - loss: 0.4136 - accuracy: 0.8014\n",
      "Epoch 11/75\n",
      "176/176 [==============================] - 0s 2ms/step - loss: 0.4124 - accuracy: 0.8044\n",
      "Epoch 12/75\n",
      "176/176 [==============================] - 0s 2ms/step - loss: 0.4120 - accuracy: 0.8068\n",
      "Epoch 13/75\n",
      "176/176 [==============================] - 0s 2ms/step - loss: 0.4111 - accuracy: 0.8057\n",
      "Epoch 14/75\n",
      "176/176 [==============================] - 0s 2ms/step - loss: 0.4098 - accuracy: 0.8044\n",
      "Epoch 15/75\n",
      "176/176 [==============================] - 0s 2ms/step - loss: 0.4089 - accuracy: 0.8073\n",
      "Epoch 16/75\n",
      "176/176 [==============================] - 0s 2ms/step - loss: 0.4087 - accuracy: 0.8055\n",
      "Epoch 17/75\n",
      "176/176 [==============================] - 0s 2ms/step - loss: 0.4079 - accuracy: 0.8073\n",
      "Epoch 18/75\n",
      "176/176 [==============================] - 0s 2ms/step - loss: 0.4077 - accuracy: 0.8062\n",
      "Epoch 19/75\n",
      "176/176 [==============================] - 0s 2ms/step - loss: 0.4071 - accuracy: 0.8085\n",
      "Epoch 20/75\n",
      "176/176 [==============================] - 0s 2ms/step - loss: 0.4068 - accuracy: 0.8100\n",
      "Epoch 21/75\n",
      "176/176 [==============================] - 0s 2ms/step - loss: 0.4060 - accuracy: 0.8078\n",
      "Epoch 22/75\n",
      "176/176 [==============================] - 0s 2ms/step - loss: 0.4048 - accuracy: 0.8092\n",
      "Epoch 23/75\n",
      "176/176 [==============================] - 0s 2ms/step - loss: 0.4049 - accuracy: 0.8089\n",
      "Epoch 24/75\n",
      "176/176 [==============================] - 0s 2ms/step - loss: 0.4045 - accuracy: 0.8110\n",
      "Epoch 25/75\n",
      "176/176 [==============================] - 0s 2ms/step - loss: 0.4042 - accuracy: 0.8114\n",
      "Epoch 26/75\n",
      "176/176 [==============================] - 0s 2ms/step - loss: 0.4038 - accuracy: 0.8117\n",
      "Epoch 27/75\n",
      "176/176 [==============================] - 0s 2ms/step - loss: 0.4033 - accuracy: 0.8107\n",
      "Epoch 28/75\n",
      "176/176 [==============================] - 0s 2ms/step - loss: 0.4024 - accuracy: 0.8114\n",
      "Epoch 29/75\n",
      "176/176 [==============================] - 0s 2ms/step - loss: 0.4022 - accuracy: 0.8142\n",
      "Epoch 30/75\n",
      "176/176 [==============================] - 0s 2ms/step - loss: 0.4017 - accuracy: 0.8105\n",
      "Epoch 31/75\n",
      "176/176 [==============================] - 0s 2ms/step - loss: 0.4007 - accuracy: 0.8151\n",
      "Epoch 32/75\n",
      "176/176 [==============================] - 0s 2ms/step - loss: 0.4010 - accuracy: 0.8126\n",
      "Epoch 33/75\n",
      "176/176 [==============================] - 0s 2ms/step - loss: 0.4004 - accuracy: 0.8140\n",
      "Epoch 34/75\n",
      "176/176 [==============================] - 0s 2ms/step - loss: 0.3999 - accuracy: 0.8132\n",
      "Epoch 35/75\n",
      "176/176 [==============================] - 0s 2ms/step - loss: 0.3999 - accuracy: 0.8135\n",
      "Epoch 36/75\n",
      "176/176 [==============================] - 0s 2ms/step - loss: 0.3995 - accuracy: 0.8116\n",
      "Epoch 37/75\n",
      "176/176 [==============================] - 0s 2ms/step - loss: 0.3990 - accuracy: 0.8135\n",
      "Epoch 38/75\n",
      "176/176 [==============================] - 0s 2ms/step - loss: 0.3983 - accuracy: 0.8133\n",
      "Epoch 39/75\n",
      "176/176 [==============================] - 0s 2ms/step - loss: 0.3976 - accuracy: 0.8137\n",
      "Epoch 40/75\n",
      "176/176 [==============================] - 0s 2ms/step - loss: 0.3983 - accuracy: 0.8116\n",
      "Epoch 41/75\n",
      "176/176 [==============================] - 0s 2ms/step - loss: 0.3974 - accuracy: 0.8140\n",
      "Epoch 42/75\n",
      "176/176 [==============================] - 0s 2ms/step - loss: 0.3975 - accuracy: 0.8124\n",
      "Epoch 43/75\n",
      "176/176 [==============================] - 0s 2ms/step - loss: 0.3963 - accuracy: 0.8146\n",
      "Epoch 44/75\n",
      "176/176 [==============================] - 0s 2ms/step - loss: 0.3961 - accuracy: 0.8162\n",
      "Epoch 45/75\n",
      "176/176 [==============================] - 0s 2ms/step - loss: 0.3965 - accuracy: 0.8140\n",
      "Epoch 46/75\n",
      "176/176 [==============================] - 0s 2ms/step - loss: 0.3958 - accuracy: 0.8137\n",
      "Epoch 47/75\n",
      "176/176 [==============================] - 0s 2ms/step - loss: 0.3951 - accuracy: 0.8151\n",
      "Epoch 48/75\n",
      "176/176 [==============================] - 0s 2ms/step - loss: 0.3940 - accuracy: 0.8128\n",
      "Epoch 49/75\n",
      "176/176 [==============================] - 0s 2ms/step - loss: 0.3945 - accuracy: 0.8137\n",
      "Epoch 50/75\n",
      "176/176 [==============================] - 0s 2ms/step - loss: 0.3941 - accuracy: 0.8149\n",
      "Epoch 51/75\n",
      "176/176 [==============================] - 0s 2ms/step - loss: 0.3938 - accuracy: 0.8151\n",
      "Epoch 52/75\n",
      "176/176 [==============================] - 0s 2ms/step - loss: 0.3930 - accuracy: 0.8148\n",
      "Epoch 53/75\n",
      "176/176 [==============================] - 0s 2ms/step - loss: 0.3931 - accuracy: 0.8133\n",
      "Epoch 54/75\n",
      "176/176 [==============================] - 0s 2ms/step - loss: 0.3928 - accuracy: 0.8130\n",
      "Epoch 55/75\n",
      "176/176 [==============================] - 0s 2ms/step - loss: 0.3923 - accuracy: 0.8180\n",
      "Epoch 56/75\n",
      "176/176 [==============================] - 0s 2ms/step - loss: 0.3926 - accuracy: 0.8162\n",
      "Epoch 57/75\n",
      "176/176 [==============================] - 0s 2ms/step - loss: 0.3922 - accuracy: 0.8160\n",
      "Epoch 58/75\n",
      "176/176 [==============================] - 0s 2ms/step - loss: 0.3916 - accuracy: 0.8153\n",
      "Epoch 59/75\n",
      "176/176 [==============================] - 0s 3ms/step - loss: 0.3917 - accuracy: 0.8164\n",
      "Epoch 60/75\n",
      "176/176 [==============================] - 0s 2ms/step - loss: 0.3909 - accuracy: 0.8172\n",
      "Epoch 61/75\n",
      "176/176 [==============================] - 0s 2ms/step - loss: 0.3910 - accuracy: 0.8158\n",
      "Epoch 62/75\n",
      "176/176 [==============================] - 0s 2ms/step - loss: 0.3910 - accuracy: 0.8156\n",
      "Epoch 63/75\n",
      "176/176 [==============================] - 0s 2ms/step - loss: 0.3903 - accuracy: 0.8153\n",
      "Epoch 64/75\n",
      "176/176 [==============================] - 0s 2ms/step - loss: 0.3901 - accuracy: 0.8201\n",
      "Epoch 65/75\n",
      "176/176 [==============================] - 0s 2ms/step - loss: 0.3901 - accuracy: 0.8158\n",
      "Epoch 66/75\n",
      "176/176 [==============================] - 0s 2ms/step - loss: 0.3896 - accuracy: 0.8183\n",
      "Epoch 67/75\n",
      "176/176 [==============================] - 0s 2ms/step - loss: 0.3898 - accuracy: 0.8124\n",
      "Epoch 68/75\n",
      "176/176 [==============================] - 0s 2ms/step - loss: 0.3899 - accuracy: 0.8162\n",
      "Epoch 69/75\n",
      "176/176 [==============================] - 0s 2ms/step - loss: 0.3887 - accuracy: 0.8158\n",
      "Epoch 70/75\n",
      "176/176 [==============================] - 0s 2ms/step - loss: 0.3887 - accuracy: 0.8162\n",
      "Epoch 71/75\n",
      "176/176 [==============================] - 0s 2ms/step - loss: 0.3893 - accuracy: 0.8174\n",
      "Epoch 72/75\n",
      "176/176 [==============================] - 0s 2ms/step - loss: 0.3883 - accuracy: 0.8192\n",
      "Epoch 73/75\n",
      "176/176 [==============================] - 0s 2ms/step - loss: 0.3883 - accuracy: 0.8155\n",
      "Epoch 74/75\n",
      "176/176 [==============================] - 0s 2ms/step - loss: 0.3875 - accuracy: 0.8165\n",
      "Epoch 75/75\n",
      "176/176 [==============================] - 0s 2ms/step - loss: 0.3880 - accuracy: 0.8178\n"
     ]
    },
    {
     "data": {
      "text/plain": [
       "<keras.callbacks.History at 0x7f19fac81610>"
      ]
     },
     "execution_count": 32,
     "metadata": {},
     "output_type": "execute_result"
    }
   ],
   "source": [
    "import tensorflow as tf\n",
    "from tensorflow import keras\n",
    "\n",
    "model = keras.Sequential([\n",
    "    keras.layers.Dense(20,input_shape=(26,),activation = 'relu'),\n",
    "    keras.layers.Dense(1,activation = 'sigmoid'),\n",
    "])\n",
    "\n",
    "model.compile(optimizer = 'adam',\n",
    "              loss='binary_crossentropy',\n",
    "              metrics = ['accuracy'])\n",
    "model.fit(x_train,y_train,epochs=75)"
   ]
  },
  {
   "cell_type": "code",
   "execution_count": 33,
   "id": "9af42164",
   "metadata": {
    "execution": {
     "iopub.execute_input": "2022-02-25T07:03:48.454346Z",
     "iopub.status.busy": "2022-02-25T07:03:48.451437Z",
     "iopub.status.idle": "2022-02-25T07:03:48.784669Z",
     "shell.execute_reply": "2022-02-25T07:03:48.784095Z",
     "shell.execute_reply.started": "2022-02-25T06:55:59.669514Z"
    },
    "papermill": {
     "duration": 0.603588,
     "end_time": "2022-02-25T07:03:48.784836",
     "exception": false,
     "start_time": "2022-02-25T07:03:48.181248",
     "status": "completed"
    },
    "tags": []
   },
   "outputs": [
    {
     "name": "stdout",
     "output_type": "stream",
     "text": [
      "44/44 [==============================] - 0s 1ms/step - loss: 0.4204 - accuracy: 0.8109\n"
     ]
    },
    {
     "data": {
      "text/plain": [
       "[0.4203605651855469, 0.8109452724456787]"
      ]
     },
     "execution_count": 33,
     "metadata": {},
     "output_type": "execute_result"
    }
   ],
   "source": [
    "model.evaluate(x_test,y_test)"
   ]
  },
  {
   "cell_type": "code",
   "execution_count": 34,
   "id": "72fb100a",
   "metadata": {
    "execution": {
     "iopub.execute_input": "2022-02-25T07:03:49.297876Z",
     "iopub.status.busy": "2022-02-25T07:03:49.297195Z",
     "iopub.status.idle": "2022-02-25T07:03:49.491730Z",
     "shell.execute_reply": "2022-02-25T07:03:49.492780Z",
     "shell.execute_reply.started": "2022-02-25T06:55:59.923550Z"
    },
    "papermill": {
     "duration": 0.458763,
     "end_time": "2022-02-25T07:03:49.493098",
     "exception": false,
     "start_time": "2022-02-25T07:03:49.034335",
     "status": "completed"
    },
    "tags": []
   },
   "outputs": [],
   "source": [
    "yp = model.predict(x_test)"
   ]
  },
  {
   "cell_type": "code",
   "execution_count": 35,
   "id": "3b4e5bc4",
   "metadata": {
    "execution": {
     "iopub.execute_input": "2022-02-25T07:03:50.001013Z",
     "iopub.status.busy": "2022-02-25T07:03:49.999920Z",
     "iopub.status.idle": "2022-02-25T07:03:50.004139Z",
     "shell.execute_reply": "2022-02-25T07:03:50.004918Z",
     "shell.execute_reply.started": "2022-02-25T06:56:00.058825Z"
    },
    "papermill": {
     "duration": 0.259815,
     "end_time": "2022-02-25T07:03:50.005140",
     "exception": false,
     "start_time": "2022-02-25T07:03:49.745325",
     "status": "completed"
    },
    "tags": []
   },
   "outputs": [
    {
     "data": {
      "text/plain": [
       "array([[0.23362163],\n",
       "       [0.15200755],\n",
       "       [0.843941  ],\n",
       "       [0.02880129],\n",
       "       [0.01808739],\n",
       "       [0.09697413],\n",
       "       [0.02642292],\n",
       "       [0.08927539],\n",
       "       [0.8361568 ],\n",
       "       [0.08259276]], dtype=float32)"
      ]
     },
     "execution_count": 35,
     "metadata": {},
     "output_type": "execute_result"
    }
   ],
   "source": [
    "yp[:10]"
   ]
  },
  {
   "cell_type": "code",
   "execution_count": 36,
   "id": "4cd57d76",
   "metadata": {
    "execution": {
     "iopub.execute_input": "2022-02-25T07:03:50.497877Z",
     "iopub.status.busy": "2022-02-25T07:03:50.496837Z",
     "iopub.status.idle": "2022-02-25T07:03:50.503887Z",
     "shell.execute_reply": "2022-02-25T07:03:50.504354Z",
     "shell.execute_reply.started": "2022-02-25T06:56:00.065944Z"
    },
    "papermill": {
     "duration": 0.258262,
     "end_time": "2022-02-25T07:03:50.504563",
     "exception": false,
     "start_time": "2022-02-25T07:03:50.246301",
     "status": "completed"
    },
    "tags": []
   },
   "outputs": [
    {
     "data": {
      "text/plain": [
       "6185    0\n",
       "5215    1\n",
       "2400    0\n",
       "3354    0\n",
       "3039    0\n",
       "6197    1\n",
       "2044    0\n",
       "6852    0\n",
       "3325    1\n",
       "595     1\n",
       "Name: Churn, dtype: int64"
      ]
     },
     "execution_count": 36,
     "metadata": {},
     "output_type": "execute_result"
    }
   ],
   "source": [
    "y_test[:10]"
   ]
  },
  {
   "cell_type": "code",
   "execution_count": 37,
   "id": "03020ac4",
   "metadata": {
    "execution": {
     "iopub.execute_input": "2022-02-25T07:03:51.003093Z",
     "iopub.status.busy": "2022-02-25T07:03:51.002360Z",
     "iopub.status.idle": "2022-02-25T07:03:51.004772Z",
     "shell.execute_reply": "2022-02-25T07:03:51.005230Z",
     "shell.execute_reply.started": "2022-02-25T06:56:00.082365Z"
    },
    "papermill": {
     "duration": 0.255818,
     "end_time": "2022-02-25T07:03:51.005436",
     "exception": false,
     "start_time": "2022-02-25T07:03:50.749618",
     "status": "completed"
    },
    "tags": []
   },
   "outputs": [],
   "source": [
    "y_pred = []\n",
    "for ele in yp:\n",
    "    if ele > 0.5:\n",
    "        y_pred.append(1)\n",
    "    else:\n",
    "        y_pred.append(0)"
   ]
  },
  {
   "cell_type": "code",
   "execution_count": 38,
   "id": "2563cb72",
   "metadata": {
    "execution": {
     "iopub.execute_input": "2022-02-25T07:03:51.504949Z",
     "iopub.status.busy": "2022-02-25T07:03:51.502584Z",
     "iopub.status.idle": "2022-02-25T07:03:51.507698Z",
     "shell.execute_reply": "2022-02-25T07:03:51.508262Z",
     "shell.execute_reply.started": "2022-02-25T06:56:00.100109Z"
    },
    "papermill": {
     "duration": 0.256767,
     "end_time": "2022-02-25T07:03:51.508477",
     "exception": false,
     "start_time": "2022-02-25T07:03:51.251710",
     "status": "completed"
    },
    "tags": []
   },
   "outputs": [
    {
     "data": {
      "text/plain": [
       "[0, 0, 1, 0, 0, 0, 0, 0, 1, 0]"
      ]
     },
     "execution_count": 38,
     "metadata": {},
     "output_type": "execute_result"
    }
   ],
   "source": [
    "y_pred[:10]"
   ]
  },
  {
   "cell_type": "code",
   "execution_count": 39,
   "id": "a22e80c1",
   "metadata": {
    "execution": {
     "iopub.execute_input": "2022-02-25T07:03:52.011103Z",
     "iopub.status.busy": "2022-02-25T07:03:52.010378Z",
     "iopub.status.idle": "2022-02-25T07:03:52.017662Z",
     "shell.execute_reply": "2022-02-25T07:03:52.017097Z",
     "shell.execute_reply.started": "2022-02-25T06:56:00.115445Z"
    },
    "papermill": {
     "duration": 0.260189,
     "end_time": "2022-02-25T07:03:52.017803",
     "exception": false,
     "start_time": "2022-02-25T07:03:51.757614",
     "status": "completed"
    },
    "tags": []
   },
   "outputs": [
    {
     "data": {
      "text/plain": [
       "6185    0\n",
       "5215    1\n",
       "2400    0\n",
       "3354    0\n",
       "3039    0\n",
       "6197    1\n",
       "2044    0\n",
       "6852    0\n",
       "3325    1\n",
       "595     1\n",
       "Name: Churn, dtype: int64"
      ]
     },
     "execution_count": 39,
     "metadata": {},
     "output_type": "execute_result"
    }
   ],
   "source": [
    "y_test[:10]"
   ]
  },
  {
   "cell_type": "code",
   "execution_count": 40,
   "id": "fe78f6be",
   "metadata": {
    "execution": {
     "iopub.execute_input": "2022-02-25T07:03:52.545086Z",
     "iopub.status.busy": "2022-02-25T07:03:52.544420Z",
     "iopub.status.idle": "2022-02-25T07:03:52.556213Z",
     "shell.execute_reply": "2022-02-25T07:03:52.555510Z",
     "shell.execute_reply.started": "2022-02-25T06:56:00.129461Z"
    },
    "papermill": {
     "duration": 0.277472,
     "end_time": "2022-02-25T07:03:52.556362",
     "exception": false,
     "start_time": "2022-02-25T07:03:52.278890",
     "status": "completed"
    },
    "tags": []
   },
   "outputs": [
    {
     "name": "stdout",
     "output_type": "stream",
     "text": [
      "              precision    recall  f1-score   support\n",
      "\n",
      "           0       0.84      0.92      0.88      1040\n",
      "           1       0.68      0.51      0.58       367\n",
      "\n",
      "    accuracy                           0.81      1407\n",
      "   macro avg       0.76      0.71      0.73      1407\n",
      "weighted avg       0.80      0.81      0.80      1407\n",
      "\n"
     ]
    }
   ],
   "source": [
    "from sklearn.metrics import confusion_matrix,classification_report\n",
    "print(classification_report(y_test,y_pred))"
   ]
  },
  {
   "cell_type": "code",
   "execution_count": 41,
   "id": "29e69e49",
   "metadata": {
    "execution": {
     "iopub.execute_input": "2022-02-25T07:03:53.071320Z",
     "iopub.status.busy": "2022-02-25T07:03:53.070340Z",
     "iopub.status.idle": "2022-02-25T07:03:53.553610Z",
     "shell.execute_reply": "2022-02-25T07:03:53.552907Z",
     "shell.execute_reply.started": "2022-02-25T06:56:00.151457Z"
    },
    "papermill": {
     "duration": 0.739313,
     "end_time": "2022-02-25T07:03:53.553759",
     "exception": false,
     "start_time": "2022-02-25T07:03:52.814446",
     "status": "completed"
    },
    "tags": []
   },
   "outputs": [
    {
     "data": {
      "text/plain": [
       "Text(69.0, 0.5, 'Truth')"
      ]
     },
     "execution_count": 41,
     "metadata": {},
     "output_type": "execute_result"
    },
    {
     "data": {
      "image/png": "[encoded data removed]",
      "text/plain": [
       "<Figure size 720x504 with 2 Axes>"
      ]
     },
     "metadata": {
      "needs_background": "light"
     },
     "output_type": "display_data"
    }
   ],
   "source": [
    "import seaborn as sn\n",
    "cm = tf.math.confusion_matrix(labels=y_test,predictions=y_pred)\n",
    "plt.figure(figsize = (10,7))\n",
    "sn.heatmap(cm,annot=True,fmt='d')\n",
    "plt.xlabel(\"Prediction\")\n",
    "plt.ylabel(\"Truth\")"
   ]
  }
 ],
 "metadata": {
  "kernelspec": {
   "display_name": "Python 3",
   "language": "python",
   "name": "python3"
  },
  "language_info": {
   "codemirror_mode": {
    "name": "ipython",
    "version": 3
   },
   "file_extension": ".py",
   "mimetype": "text/x-python",
   "name": "python",
   "nbconvert_exporter": "python",
   "pygments_lexer": "ipython3",
   "version": "3.7.12"
  },
  "papermill": {
   "default_parameters": {},
   "duration": 61.098805,
   "end_time": "2022-02-25T07:03:56.507545",
   "environment_variables": {},
   "exception": null,
   "input_path": "__notebook__.ipynb",
   "output_path": "__notebook__.ipynb",
   "parameters": {},
   "start_time": "2022-02-25T07:02:55.408740",
   "version": "2.3.3"
  }
 },
 "nbformat": 4,
 "nbformat_minor": 5
}
